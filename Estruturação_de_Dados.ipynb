{
  "nbformat": 4,
  "nbformat_minor": 0,
  "metadata": {
    "colab": {
      "name": "Estruturação de Dados.ipynb",
      "provenance": [],
      "authorship_tag": "ABX9TyMAsa0ztY3BJ+W3+TfaFU5E",
      "include_colab_link": true
    },
    "kernelspec": {
      "name": "python3",
      "display_name": "Python 3"
    }
  },
  "cells": [
    {
      "cell_type": "markdown",
      "metadata": {
        "id": "view-in-github",
        "colab_type": "text"
      },
      "source": [
        "<a href=\"https://colab.research.google.com/github/brunotagoncalves/publicdataml/blob/main/Estrutura%C3%A7%C3%A3o_de_Dados.ipynb\" target=\"_parent\"><img src=\"https://colab.research.google.com/assets/colab-badge.svg\" alt=\"Open In Colab\"/></a>"
      ]
    },
    {
      "cell_type": "markdown",
      "metadata": {
        "id": "v_tKUSyy3-AC"
      },
      "source": [
        "## 1.\tEstruturação de Dados\r\n",
        "Notebook para Instalação em **Spark**"
      ]
    },
    {
      "cell_type": "code",
      "metadata": {
        "colab": {
          "base_uri": "https://localhost:8080/"
        },
        "id": "b-vox-ubsOqH",
        "outputId": "7b9893d5-bbe2-4af2-8aba-3c94ae713806"
      },
      "source": [
        "\r\n",
        "!apt-get install openjdk-8-jdk-headless -qq > /dev/null\r\n",
        "!wget http://www-eu.apache.org/dist/spark/spark-2.4.7/spark-2.4.7-bin-hadoop2.7.tgz\r\n"
      ],
      "execution_count": 1,
      "outputs": [
        {
          "output_type": "stream",
          "text": [
            "--2021-02-17 20:49:10--  http://www-eu.apache.org/dist/spark/spark-2.4.7/spark-2.4.7-bin-hadoop2.7.tgz\n",
            "Resolving www-eu.apache.org (www-eu.apache.org)... 95.216.26.30, 2a01:4f9:2a:1a61::2\n",
            "Connecting to www-eu.apache.org (www-eu.apache.org)|95.216.26.30|:80... connected.\n",
            "HTTP request sent, awaiting response... 302 Found\n",
            "Location: https://downloads.apache.org/spark/spark-2.4.7/spark-2.4.7-bin-hadoop2.7.tgz [following]\n",
            "--2021-02-17 20:49:10--  https://downloads.apache.org/spark/spark-2.4.7/spark-2.4.7-bin-hadoop2.7.tgz\n",
            "Resolving downloads.apache.org (downloads.apache.org)... 88.99.95.219, 2a01:4f8:10a:201a::2\n",
            "Connecting to downloads.apache.org (downloads.apache.org)|88.99.95.219|:443... connected.\n",
            "HTTP request sent, awaiting response... 200 OK\n",
            "Length: 233333392 (223M) [application/x-gzip]\n",
            "Saving to: ‘spark-2.4.7-bin-hadoop2.7.tgz.3’\n",
            "\n",
            "spark-2.4.7-bin-had 100%[===================>] 222.52M  18.0MB/s    in 19s     \n",
            "\n",
            "2021-02-17 20:49:30 (11.4 MB/s) - ‘spark-2.4.7-bin-hadoop2.7.tgz.3’ saved [233333392/233333392]\n",
            "\n"
          ],
          "name": "stdout"
        }
      ]
    },
    {
      "cell_type": "code",
      "metadata": {
        "colab": {
          "base_uri": "https://localhost:8080/"
        },
        "id": "e72ZrzjqtTve",
        "outputId": "7dd4660f-de88-45ee-c07c-92d9b10656c5"
      },
      "source": [
        "!tar -xf spark-2.4.7-bin-hadoop2.7.tgz\r\n",
        "!pip install -q findspark\r\n",
        "!pip install -q pyspark"
      ],
      "execution_count": 2,
      "outputs": [
        {
          "output_type": "stream",
          "text": [
            "tar: spark-2.4.7-bin-hadoop2.7.tgz: Cannot open: No such file or directory\n",
            "tar: Error is not recoverable: exiting now\n"
          ],
          "name": "stdout"
        }
      ]
    },
    {
      "cell_type": "code",
      "metadata": {
        "colab": {
          "base_uri": "https://localhost:8080/"
        },
        "id": "Pqnt_p2F2cHZ",
        "outputId": "fb64ee53-3c73-427d-f9a4-294997e0a8fc"
      },
      "source": [
        "!apt-get update\r\n",
        "!apt-get install p7zip-full\r\n",
        "!p7zip -d *.7z # arquivos do ftp "
      ],
      "execution_count": 21,
      "outputs": [
        {
          "output_type": "stream",
          "text": [
            "\r0% [Working]\r            \rIgn:1 https://developer.download.nvidia.com/compute/cuda/repos/ubuntu1804/x86_64  InRelease\n",
            "\r0% [Connecting to archive.ubuntu.com] [Connecting to security.ubuntu.com] [Wait\r                                                                               \rGet:2 https://cloud.r-project.org/bin/linux/ubuntu bionic-cran40/ InRelease [3,626 B]\n",
            "\r0% [Connecting to archive.ubuntu.com] [Connecting to security.ubuntu.com] [2 In\r0% [Connecting to archive.ubuntu.com] [Connecting to security.ubuntu.com] [Conn\r0% [2 InRelease gpgv 3,626 B] [Connecting to archive.ubuntu.com] [Connecting to\r                                                                               \rIgn:3 https://developer.download.nvidia.com/compute/machine-learning/repos/ubuntu1804/x86_64  InRelease\n",
            "\r0% [2 InRelease gpgv 3,626 B] [Connecting to archive.ubuntu.com] [Connecting to\r                                                                               \rHit:4 https://developer.download.nvidia.com/compute/cuda/repos/ubuntu1804/x86_64  Release\n",
            "Hit:5 https://developer.download.nvidia.com/compute/machine-learning/repos/ubuntu1804/x86_64  Release\n",
            "Get:6 http://security.ubuntu.com/ubuntu bionic-security InRelease [88.7 kB]\n",
            "Get:7 http://ppa.launchpad.net/c2d4u.team/c2d4u4.0+/ubuntu bionic InRelease [15.9 kB]\n",
            "Hit:8 http://archive.ubuntu.com/ubuntu bionic InRelease\n",
            "Get:10 http://archive.ubuntu.com/ubuntu bionic-updates InRelease [88.7 kB]\n",
            "Hit:12 http://ppa.launchpad.net/cran/libgit2/ubuntu bionic InRelease\n",
            "Get:13 http://archive.ubuntu.com/ubuntu bionic-backports InRelease [74.6 kB]\n",
            "Hit:14 http://ppa.launchpad.net/graphics-drivers/ppa/ubuntu bionic InRelease\n",
            "Get:15 http://ppa.launchpad.net/c2d4u.team/c2d4u4.0+/ubuntu bionic/main Sources [1,732 kB]\n",
            "Get:16 http://archive.ubuntu.com/ubuntu bionic-updates/main amd64 Packages [2,360 kB]\n",
            "Get:17 http://ppa.launchpad.net/c2d4u.team/c2d4u4.0+/ubuntu bionic/main amd64 Packages [887 kB]\n",
            "Fetched 5,250 kB in 4s (1,483 kB/s)\n",
            "Reading package lists... Done\n",
            "Reading package lists... Done\n",
            "Building dependency tree       \n",
            "Reading state information... Done\n",
            "p7zip-full is already the newest version (16.02+dfsg-6).\n",
            "0 upgraded, 0 newly installed, 0 to remove and 14 not upgraded.\n"
          ],
          "name": "stdout"
        }
      ]
    },
    {
      "cell_type": "code",
      "metadata": {
        "id": "ixsXBG4ZuJ6-"
      },
      "source": [
        "import os\r\n",
        "os.environ[\"JAVA_HOME\"] = \"/usr/lib/jvm/java-8-openjdk-amd64\"\r\n",
        "os.environ[\"SPARK_HOME\"] = \"/content/spark-2.4.7-bin-hadoop2.7\""
      ],
      "execution_count": 5,
      "outputs": []
    },
    {
      "cell_type": "code",
      "metadata": {
        "id": "2ol55sLuv9yG"
      },
      "source": [
        "import findspark\r\n",
        "findspark.init()\r\n",
        "from pyspark.sql import SparkSession\r\n",
        "spark = SparkSession.builder.master(\"local[*]\").getOrCreate()"
      ],
      "execution_count": 6,
      "outputs": []
    },
    {
      "cell_type": "code",
      "metadata": {
        "id": "SfuKyxFi1xYZ"
      },
      "source": [
        "df = spark.read.format('csv').option(\"sep\", \";\").option(\"header\", \"True\").load('CAGEDMOV202007.txt')"
      ],
      "execution_count": 24,
      "outputs": []
    },
    {
      "cell_type": "code",
      "metadata": {
        "colab": {
          "base_uri": "https://localhost:8080/"
        },
        "id": "5iR7-elC1unf",
        "outputId": "4544ebbf-9333-4436-9770-23787e719146"
      },
      "source": [
        "df.count()"
      ],
      "execution_count": 25,
      "outputs": [
        {
          "output_type": "execute_result",
          "data": {
            "text/plain": [
              "2159751"
            ]
          },
          "metadata": {
            "tags": []
          },
          "execution_count": 25
        }
      ]
    },
    {
      "cell_type": "code",
      "metadata": {
        "colab": {
          "base_uri": "https://localhost:8080/",
          "height": 379
        },
        "id": "aykxK-tM3rLr",
        "outputId": "229e2918-e1fb-447f-df6d-58d68de65717"
      },
      "source": [
        "df.limit(10).toPandas()"
      ],
      "execution_count": 26,
      "outputs": [
        {
          "output_type": "execute_result",
          "data": {
            "text/html": [
              "<div>\n",
              "<style scoped>\n",
              "    .dataframe tbody tr th:only-of-type {\n",
              "        vertical-align: middle;\n",
              "    }\n",
              "\n",
              "    .dataframe tbody tr th {\n",
              "        vertical-align: top;\n",
              "    }\n",
              "\n",
              "    .dataframe thead th {\n",
              "        text-align: right;\n",
              "    }\n",
              "</style>\n",
              "<table border=\"1\" class=\"dataframe\">\n",
              "  <thead>\n",
              "    <tr style=\"text-align: right;\">\n",
              "      <th></th>\n",
              "      <th>competência</th>\n",
              "      <th>região</th>\n",
              "      <th>uf</th>\n",
              "      <th>município</th>\n",
              "      <th>seção</th>\n",
              "      <th>subclasse</th>\n",
              "      <th>saldomovimentação</th>\n",
              "      <th>cbo2002ocupação</th>\n",
              "      <th>categoria</th>\n",
              "      <th>graudeinstrução</th>\n",
              "      <th>idade</th>\n",
              "      <th>horascontratuais</th>\n",
              "      <th>raçacor</th>\n",
              "      <th>sexo</th>\n",
              "      <th>tipoempregador</th>\n",
              "      <th>tipoestabelecimento</th>\n",
              "      <th>tipomovimentação</th>\n",
              "      <th>tipodedeficiência</th>\n",
              "      <th>indtrabintermitente</th>\n",
              "      <th>indtrabparcial</th>\n",
              "      <th>salário</th>\n",
              "      <th>tamestabjan</th>\n",
              "      <th>indicadoraprendiz</th>\n",
              "      <th>fonte</th>\n",
              "    </tr>\n",
              "  </thead>\n",
              "  <tbody>\n",
              "    <tr>\n",
              "      <th>0</th>\n",
              "      <td>202007</td>\n",
              "      <td>3</td>\n",
              "      <td>35</td>\n",
              "      <td>351540</td>\n",
              "      <td>C</td>\n",
              "      <td>1412601</td>\n",
              "      <td>-1</td>\n",
              "      <td>763210</td>\n",
              "      <td>999</td>\n",
              "      <td>7</td>\n",
              "      <td>61</td>\n",
              "      <td>44</td>\n",
              "      <td>1</td>\n",
              "      <td>3</td>\n",
              "      <td>9</td>\n",
              "      <td>1</td>\n",
              "      <td>40</td>\n",
              "      <td>9</td>\n",
              "      <td>0</td>\n",
              "      <td>0</td>\n",
              "      <td>1176</td>\n",
              "      <td>6</td>\n",
              "      <td>0</td>\n",
              "      <td>2</td>\n",
              "    </tr>\n",
              "    <tr>\n",
              "      <th>1</th>\n",
              "      <td>202007</td>\n",
              "      <td>3</td>\n",
              "      <td>35</td>\n",
              "      <td>354390</td>\n",
              "      <td>N</td>\n",
              "      <td>8211300</td>\n",
              "      <td>-1</td>\n",
              "      <td>848305</td>\n",
              "      <td>101</td>\n",
              "      <td>7</td>\n",
              "      <td>20</td>\n",
              "      <td>51</td>\n",
              "      <td>1</td>\n",
              "      <td>1</td>\n",
              "      <td>0</td>\n",
              "      <td>1</td>\n",
              "      <td>31</td>\n",
              "      <td>0</td>\n",
              "      <td>0</td>\n",
              "      <td>0</td>\n",
              "      <td>1400</td>\n",
              "      <td>6</td>\n",
              "      <td>0</td>\n",
              "      <td>1</td>\n",
              "    </tr>\n",
              "    <tr>\n",
              "      <th>2</th>\n",
              "      <td>202007</td>\n",
              "      <td>4</td>\n",
              "      <td>41</td>\n",
              "      <td>410140</td>\n",
              "      <td>C</td>\n",
              "      <td>2833000</td>\n",
              "      <td>1</td>\n",
              "      <td>784205</td>\n",
              "      <td>101</td>\n",
              "      <td>4</td>\n",
              "      <td>42</td>\n",
              "      <td>44</td>\n",
              "      <td>2</td>\n",
              "      <td>1</td>\n",
              "      <td>0</td>\n",
              "      <td>1</td>\n",
              "      <td>20</td>\n",
              "      <td>0</td>\n",
              "      <td>0</td>\n",
              "      <td>0</td>\n",
              "      <td>1563.719970703125</td>\n",
              "      <td>7</td>\n",
              "      <td>0</td>\n",
              "      <td>1</td>\n",
              "    </tr>\n",
              "    <tr>\n",
              "      <th>3</th>\n",
              "      <td>202007</td>\n",
              "      <td>2</td>\n",
              "      <td>24</td>\n",
              "      <td>240810</td>\n",
              "      <td>G</td>\n",
              "      <td>4711302</td>\n",
              "      <td>-1</td>\n",
              "      <td>521110</td>\n",
              "      <td>103</td>\n",
              "      <td>4</td>\n",
              "      <td>14</td>\n",
              "      <td>20</td>\n",
              "      <td>3</td>\n",
              "      <td>1</td>\n",
              "      <td>0</td>\n",
              "      <td>1</td>\n",
              "      <td>43</td>\n",
              "      <td>0</td>\n",
              "      <td>0</td>\n",
              "      <td>1</td>\n",
              "      <td>469</td>\n",
              "      <td>3</td>\n",
              "      <td>1</td>\n",
              "      <td>1</td>\n",
              "    </tr>\n",
              "    <tr>\n",
              "      <th>4</th>\n",
              "      <td>202007</td>\n",
              "      <td>4</td>\n",
              "      <td>41</td>\n",
              "      <td>412710</td>\n",
              "      <td>P</td>\n",
              "      <td>8593700</td>\n",
              "      <td>1</td>\n",
              "      <td>411010</td>\n",
              "      <td>101</td>\n",
              "      <td>9</td>\n",
              "      <td>29</td>\n",
              "      <td>44</td>\n",
              "      <td>1</td>\n",
              "      <td>3</td>\n",
              "      <td>0</td>\n",
              "      <td>1</td>\n",
              "      <td>20</td>\n",
              "      <td>0</td>\n",
              "      <td>0</td>\n",
              "      <td>0</td>\n",
              "      <td>1200</td>\n",
              "      <td>3</td>\n",
              "      <td>0</td>\n",
              "      <td>1</td>\n",
              "    </tr>\n",
              "    <tr>\n",
              "      <th>5</th>\n",
              "      <td>202007</td>\n",
              "      <td>4</td>\n",
              "      <td>41</td>\n",
              "      <td>410690</td>\n",
              "      <td>M</td>\n",
              "      <td>7490105</td>\n",
              "      <td>1</td>\n",
              "      <td>322205</td>\n",
              "      <td>999</td>\n",
              "      <td>9</td>\n",
              "      <td>34</td>\n",
              "      <td>44</td>\n",
              "      <td>1</td>\n",
              "      <td>1</td>\n",
              "      <td>0</td>\n",
              "      <td>1</td>\n",
              "      <td>25</td>\n",
              "      <td>0</td>\n",
              "      <td>0</td>\n",
              "      <td>0</td>\n",
              "      <td>1350</td>\n",
              "      <td>1</td>\n",
              "      <td>0</td>\n",
              "      <td>1</td>\n",
              "    </tr>\n",
              "    <tr>\n",
              "      <th>6</th>\n",
              "      <td>202007</td>\n",
              "      <td>4</td>\n",
              "      <td>42</td>\n",
              "      <td>420420</td>\n",
              "      <td>H</td>\n",
              "      <td>4930202</td>\n",
              "      <td>1</td>\n",
              "      <td>782510</td>\n",
              "      <td>101</td>\n",
              "      <td>5</td>\n",
              "      <td>48</td>\n",
              "      <td>44</td>\n",
              "      <td>1</td>\n",
              "      <td>1</td>\n",
              "      <td>0</td>\n",
              "      <td>1</td>\n",
              "      <td>20</td>\n",
              "      <td>0</td>\n",
              "      <td>0</td>\n",
              "      <td>0</td>\n",
              "      <td>1704</td>\n",
              "      <td>2</td>\n",
              "      <td>0</td>\n",
              "      <td>1</td>\n",
              "    </tr>\n",
              "    <tr>\n",
              "      <th>7</th>\n",
              "      <td>202007</td>\n",
              "      <td>3</td>\n",
              "      <td>35</td>\n",
              "      <td>355030</td>\n",
              "      <td>A</td>\n",
              "      <td>115600</td>\n",
              "      <td>-1</td>\n",
              "      <td>622020</td>\n",
              "      <td>101</td>\n",
              "      <td>7</td>\n",
              "      <td>50</td>\n",
              "      <td>44</td>\n",
              "      <td>6</td>\n",
              "      <td>3</td>\n",
              "      <td>2</td>\n",
              "      <td>3</td>\n",
              "      <td>31</td>\n",
              "      <td>0</td>\n",
              "      <td>0</td>\n",
              "      <td>0</td>\n",
              "      <td>1111</td>\n",
              "      <td>99</td>\n",
              "      <td>0</td>\n",
              "      <td>1</td>\n",
              "    </tr>\n",
              "    <tr>\n",
              "      <th>8</th>\n",
              "      <td>202007</td>\n",
              "      <td>3</td>\n",
              "      <td>35</td>\n",
              "      <td>355030</td>\n",
              "      <td>I</td>\n",
              "      <td>5611203</td>\n",
              "      <td>-1</td>\n",
              "      <td>519110</td>\n",
              "      <td>101</td>\n",
              "      <td>7</td>\n",
              "      <td>41</td>\n",
              "      <td>36</td>\n",
              "      <td>3</td>\n",
              "      <td>1</td>\n",
              "      <td>0</td>\n",
              "      <td>1</td>\n",
              "      <td>40</td>\n",
              "      <td>0</td>\n",
              "      <td>0</td>\n",
              "      <td>0</td>\n",
              "      <td>184212</td>\n",
              "      <td>4</td>\n",
              "      <td>0</td>\n",
              "      <td>1</td>\n",
              "    </tr>\n",
              "    <tr>\n",
              "      <th>9</th>\n",
              "      <td>202007</td>\n",
              "      <td>3</td>\n",
              "      <td>35</td>\n",
              "      <td>354340</td>\n",
              "      <td>S</td>\n",
              "      <td>9601701</td>\n",
              "      <td>-1</td>\n",
              "      <td>761415</td>\n",
              "      <td>999</td>\n",
              "      <td>5</td>\n",
              "      <td>31</td>\n",
              "      <td>22</td>\n",
              "      <td>3</td>\n",
              "      <td>1</td>\n",
              "      <td>0</td>\n",
              "      <td>1</td>\n",
              "      <td>31</td>\n",
              "      <td>0</td>\n",
              "      <td>0</td>\n",
              "      <td>0</td>\n",
              "      <td>0</td>\n",
              "      <td>5</td>\n",
              "      <td>0</td>\n",
              "      <td>1</td>\n",
              "    </tr>\n",
              "  </tbody>\n",
              "</table>\n",
              "</div>"
            ],
            "text/plain": [
              "  competência região  uf  ... tamestabjan indicadoraprendiz fonte\n",
              "0      202007      3  35  ...           6                 0     2\n",
              "1      202007      3  35  ...           6                 0     1\n",
              "2      202007      4  41  ...           7                 0     1\n",
              "3      202007      2  24  ...           3                 1     1\n",
              "4      202007      4  41  ...           3                 0     1\n",
              "5      202007      4  41  ...           1                 0     1\n",
              "6      202007      4  42  ...           2                 0     1\n",
              "7      202007      3  35  ...          99                 0     1\n",
              "8      202007      3  35  ...           4                 0     1\n",
              "9      202007      3  35  ...           5                 0     1\n",
              "\n",
              "[10 rows x 24 columns]"
            ]
          },
          "metadata": {
            "tags": []
          },
          "execution_count": 26
        }
      ]
    },
    {
      "cell_type": "code",
      "metadata": {
        "id": "-8i0P61X3tZD"
      },
      "source": [
        ""
      ],
      "execution_count": null,
      "outputs": []
    }
  ]
}