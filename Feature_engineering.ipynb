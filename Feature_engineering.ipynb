{
  "nbformat": 4,
  "nbformat_minor": 0,
  "metadata": {
    "colab": {
      "name": "Feature engineering.ipynb",
      "provenance": [],
      "toc_visible": true,
      "authorship_tag": "ABX9TyM4NC9nCuw7PG3KY6I2J6Tg",
      "include_colab_link": true
    },
    "kernelspec": {
      "name": "python3",
      "display_name": "Python 3"
    }
  },
  "cells": [
    {
      "cell_type": "markdown",
      "metadata": {
        "id": "view-in-github",
        "colab_type": "text"
      },
      "source": [
        "<a href=\"https://colab.research.google.com/github/brunotagoncalves/publicdataml/blob/main/Feature_engineering.ipynb\" target=\"_parent\"><img src=\"https://colab.research.google.com/assets/colab-badge.svg\" alt=\"Open In Colab\"/></a>"
      ]
    },
    {
      "cell_type": "markdown",
      "metadata": {
        "id": "dBDS_U6FF9c0"
      },
      "source": [
        "## 2.\tFeature engineering\r\n"
      ]
    },
    {
      "cell_type": "code",
      "metadata": {
        "colab": {
          "base_uri": "https://localhost:8080/"
        },
        "id": "YAGQgj9HGRBI",
        "outputId": "5b0cd8ad-bca6-4496-c5f3-aebb8f1f0466"
      },
      "source": [
        "from google.colab import drive\r\n",
        "drive.mount('/content/drive')\r\n"
      ],
      "execution_count": 56,
      "outputs": [
        {
          "output_type": "stream",
          "text": [
            "Drive already mounted at /content/drive; to attempt to forcibly remount, call drive.mount(\"/content/drive\", force_remount=True).\n"
          ],
          "name": "stdout"
        }
      ]
    },
    {
      "cell_type": "code",
      "metadata": {
        "id": "Sqp6V871ZZf6"
      },
      "source": [
        "import pandas as pd \r\n",
        "import numpy as np\r\n",
        "import matplotlib.pyplot as plt"
      ],
      "execution_count": 72,
      "outputs": []
    },
    {
      "cell_type": "code",
      "metadata": {
        "id": "tLvdOSTAGW9d"
      },
      "source": [
        "pd_df = pd.read_csv('drive/MyDrive/publicdataml/sample_data.csv',index_col=0,dtype='object')"
      ],
      "execution_count": 145,
      "outputs": []
    },
    {
      "cell_type": "code",
      "metadata": {
        "id": "_42oHQ3KiLCb"
      },
      "source": [
        "pd_df.subclasse = pd_df.subclasse.str.zfill(7)\r\n",
        "for i in range(1,pd_df.subclasse.str.len().max()):\r\n",
        "  pd_df.loc[:,'subclasse_dig'+str(i)] = pd_df.loc[:,'subclasse'].str[:i]  "
      ],
      "execution_count": 146,
      "outputs": []
    },
    {
      "cell_type": "code",
      "metadata": {
        "id": "EOjSLnJLlBDJ"
      },
      "source": [
        "pd_df.loc[:,'cbo2002ocupação'] = pd_df.loc[:,'cbo2002ocupação'].str.zfill(6)\r\n",
        "for i in range(1,pd_df.loc[:,'cbo2002ocupação'].str.len().max()):\r\n",
        "  pd_df.loc[:,'cbo_dig'+str(i)] = pd_df.loc[:,'cbo2002ocupação'].str[:i]  "
      ],
      "execution_count": 148,
      "outputs": []
    },
    {
      "cell_type": "code",
      "metadata": {
        "id": "n2IOq1iHnSs8"
      },
      "source": [
        "for i in range(3,pd_df.loc[:,'município'].str.len().max()):\r\n",
        "  pd_df.loc[:,'município_dig'+str(i)] = pd_df.loc[:,'município'].str[:i]  "
      ],
      "execution_count": 159,
      "outputs": []
    },
    {
      "cell_type": "code",
      "metadata": {
        "colab": {
          "base_uri": "https://localhost:8080/",
          "height": 421
        },
        "id": "gZp2CxneoHc-",
        "outputId": "752543ae-6ddd-4086-ed0c-6bc88ea48e4f"
      },
      "source": [
        "pd_df.groupby(['graudeinstrução','Descrição_graudeinstrução'])['salário'].describe().sort_values('mean') # não parece ordinal"
      ],
      "execution_count": 169,
      "outputs": [
        {
          "output_type": "execute_result",
          "data": {
            "text/html": [
              "<div>\n",
              "<style scoped>\n",
              "    .dataframe tbody tr th:only-of-type {\n",
              "        vertical-align: middle;\n",
              "    }\n",
              "\n",
              "    .dataframe tbody tr th {\n",
              "        vertical-align: top;\n",
              "    }\n",
              "\n",
              "    .dataframe thead th {\n",
              "        text-align: right;\n",
              "    }\n",
              "</style>\n",
              "<table border=\"1\" class=\"dataframe\">\n",
              "  <thead>\n",
              "    <tr style=\"text-align: right;\">\n",
              "      <th></th>\n",
              "      <th></th>\n",
              "      <th>count</th>\n",
              "      <th>mean</th>\n",
              "      <th>std</th>\n",
              "      <th>min</th>\n",
              "      <th>25%</th>\n",
              "      <th>50%</th>\n",
              "      <th>75%</th>\n",
              "      <th>max</th>\n",
              "    </tr>\n",
              "    <tr>\n",
              "      <th>graudeinstrução</th>\n",
              "      <th>Descrição_graudeinstrução</th>\n",
              "      <th></th>\n",
              "      <th></th>\n",
              "      <th></th>\n",
              "      <th></th>\n",
              "      <th></th>\n",
              "      <th></th>\n",
              "      <th></th>\n",
              "      <th></th>\n",
              "    </tr>\n",
              "  </thead>\n",
              "  <tbody>\n",
              "    <tr>\n",
              "      <th>6</th>\n",
              "      <th>Médio Incompleto</th>\n",
              "      <td>28606.0</td>\n",
              "      <td>1119.852143</td>\n",
              "      <td>3184.622969</td>\n",
              "      <td>400.0</td>\n",
              "      <td>522.500</td>\n",
              "      <td>626.36</td>\n",
              "      <td>1150.0000</td>\n",
              "      <td>99000.0</td>\n",
              "    </tr>\n",
              "    <tr>\n",
              "      <th>2</th>\n",
              "      <th>Até 5ª Incompleto</th>\n",
              "      <td>4669.0</td>\n",
              "      <td>1467.397288</td>\n",
              "      <td>1737.301334</td>\n",
              "      <td>400.0</td>\n",
              "      <td>1045.000</td>\n",
              "      <td>1146.35</td>\n",
              "      <td>1609.5300</td>\n",
              "      <td>78264.0</td>\n",
              "    </tr>\n",
              "    <tr>\n",
              "      <th>1</th>\n",
              "      <th>Analfabeto</th>\n",
              "      <td>850.0</td>\n",
              "      <td>1498.188106</td>\n",
              "      <td>2116.932185</td>\n",
              "      <td>454.0</td>\n",
              "      <td>1045.000</td>\n",
              "      <td>1064.10</td>\n",
              "      <td>1486.5475</td>\n",
              "      <td>42857.0</td>\n",
              "    </tr>\n",
              "    <tr>\n",
              "      <th>4</th>\n",
              "      <th>6ª a 9ª Fundamental</th>\n",
              "      <td>11321.0</td>\n",
              "      <td>1513.291616</td>\n",
              "      <td>3898.760640</td>\n",
              "      <td>400.0</td>\n",
              "      <td>643.960</td>\n",
              "      <td>1108.38</td>\n",
              "      <td>1559.0000</td>\n",
              "      <td>99800.0</td>\n",
              "    </tr>\n",
              "    <tr>\n",
              "      <th>3</th>\n",
              "      <th>5ª Completo Fundamental</th>\n",
              "      <td>3611.0</td>\n",
              "      <td>1594.037696</td>\n",
              "      <td>2565.516235</td>\n",
              "      <td>400.0</td>\n",
              "      <td>1045.000</td>\n",
              "      <td>1194.05</td>\n",
              "      <td>1700.0000</td>\n",
              "      <td>78264.0</td>\n",
              "    </tr>\n",
              "    <tr>\n",
              "      <th>5</th>\n",
              "      <th>Fundamental Completo</th>\n",
              "      <td>16673.0</td>\n",
              "      <td>1647.130728</td>\n",
              "      <td>2954.216603</td>\n",
              "      <td>400.0</td>\n",
              "      <td>1040.000</td>\n",
              "      <td>1250.00</td>\n",
              "      <td>1711.6000</td>\n",
              "      <td>88530.0</td>\n",
              "    </tr>\n",
              "    <tr>\n",
              "      <th>7</th>\n",
              "      <th>Médio Completo</th>\n",
              "      <td>132467.0</td>\n",
              "      <td>1714.903787</td>\n",
              "      <td>3450.582861</td>\n",
              "      <td>400.0</td>\n",
              "      <td>998.000</td>\n",
              "      <td>1189.00</td>\n",
              "      <td>1679.6050</td>\n",
              "      <td>99800.0</td>\n",
              "    </tr>\n",
              "    <tr>\n",
              "      <th>8</th>\n",
              "      <th>Superior Incompleto</th>\n",
              "      <td>11235.0</td>\n",
              "      <td>2083.067958</td>\n",
              "      <td>2663.666766</td>\n",
              "      <td>400.0</td>\n",
              "      <td>950.000</td>\n",
              "      <td>1400.00</td>\n",
              "      <td>2751.5200</td>\n",
              "      <td>81000.0</td>\n",
              "    </tr>\n",
              "    <tr>\n",
              "      <th>9</th>\n",
              "      <th>Superior Completo</th>\n",
              "      <td>34133.0</td>\n",
              "      <td>4461.238911</td>\n",
              "      <td>4732.692511</td>\n",
              "      <td>400.0</td>\n",
              "      <td>2000.000</td>\n",
              "      <td>3307.23</td>\n",
              "      <td>5200.0000</td>\n",
              "      <td>99000.0</td>\n",
              "    </tr>\n",
              "    <tr>\n",
              "      <th>11</th>\n",
              "      <th>Doutorado</th>\n",
              "      <td>371.0</td>\n",
              "      <td>6740.856631</td>\n",
              "      <td>7774.717874</td>\n",
              "      <td>405.2</td>\n",
              "      <td>2507.690</td>\n",
              "      <td>5000.00</td>\n",
              "      <td>8950.5000</td>\n",
              "      <td>81000.0</td>\n",
              "    </tr>\n",
              "    <tr>\n",
              "      <th>10</th>\n",
              "      <th>Mestrado</th>\n",
              "      <td>1133.0</td>\n",
              "      <td>6815.147679</td>\n",
              "      <td>8553.187178</td>\n",
              "      <td>400.1</td>\n",
              "      <td>1045.000</td>\n",
              "      <td>4452.00</td>\n",
              "      <td>8984.8100</td>\n",
              "      <td>91776.0</td>\n",
              "    </tr>\n",
              "    <tr>\n",
              "      <th>80</th>\n",
              "      <th>Pós-Graduação completa</th>\n",
              "      <td>4419.0</td>\n",
              "      <td>6913.977875</td>\n",
              "      <td>6987.241921</td>\n",
              "      <td>400.0</td>\n",
              "      <td>3107.555</td>\n",
              "      <td>4967.30</td>\n",
              "      <td>8603.4100</td>\n",
              "      <td>96500.0</td>\n",
              "    </tr>\n",
              "  </tbody>\n",
              "</table>\n",
              "</div>"
            ],
            "text/plain": [
              "                                              count  ...      max\n",
              "graudeinstrução Descrição_graudeinstrução            ...         \n",
              "6               Médio Incompleto            28606.0  ...  99000.0\n",
              "2               Até 5ª Incompleto            4669.0  ...  78264.0\n",
              "1               Analfabeto                    850.0  ...  42857.0\n",
              "4               6ª a 9ª Fundamental         11321.0  ...  99800.0\n",
              "3               5ª Completo Fundamental      3611.0  ...  78264.0\n",
              "5               Fundamental Completo        16673.0  ...  88530.0\n",
              "7               Médio Completo             132467.0  ...  99800.0\n",
              "8               Superior Incompleto         11235.0  ...  81000.0\n",
              "9               Superior Completo           34133.0  ...  99000.0\n",
              "11              Doutorado                     371.0  ...  81000.0\n",
              "10              Mestrado                     1133.0  ...  91776.0\n",
              "80              Pós-Graduação completa       4419.0  ...  96500.0\n",
              "\n",
              "[12 rows x 8 columns]"
            ]
          },
          "metadata": {
            "tags": []
          },
          "execution_count": 169
        }
      ]
    },
    {
      "cell_type": "code",
      "metadata": {
        "colab": {
          "base_uri": "https://localhost:8080/"
        },
        "id": "EttMO2MeGf2o",
        "outputId": "8e733b55-54fd-4f4e-af94-e1c8d2112b98"
      },
      "source": [
        "pd_df.dtypes"
      ],
      "execution_count": 149,
      "outputs": [
        {
          "output_type": "execute_result",
          "data": {
            "text/plain": [
              "município                    object\n",
              "tamestabjan                  object\n",
              "raçacor                      object\n",
              "sexo                         object\n",
              "graudeinstrução              object\n",
              "cbo2002ocupação              object\n",
              "categoria                    object\n",
              "subclasse                    object\n",
              "seção                        object\n",
              "uf                           object\n",
              "região                       object\n",
              "competência                  object\n",
              "saldomovimentação            object\n",
              "idade                        object\n",
              "horascontratuais             object\n",
              "tipoempregador               object\n",
              "tipoestabelecimento          object\n",
              "tipomovimentação             object\n",
              "tipodedeficiência            object\n",
              "indtrabintermitente          object\n",
              "indtrabparcial               object\n",
              "salário                      object\n",
              "indicadoraprendiz            object\n",
              "fonte                        object\n",
              "faixapnad                    object\n",
              "Descrição_região             object\n",
              "Descrição_uf                 object\n",
              "Descrição_município          object\n",
              "Descrição_seção              object\n",
              "Descrição_subclasse          object\n",
              "Descrição_categoria          object\n",
              "Descrição_cbo2002ocupação    object\n",
              "Descrição_graudeinstrução    object\n",
              "Descrição_sexo               object\n",
              "Descrição_raçacor            object\n",
              "Descrição_tamestabjan        object\n",
              "pop_estimada                 object\n",
              "subclasse_dig1               object\n",
              "subclasse_dig2               object\n",
              "subclasse_dig3               object\n",
              "subclasse_dig4               object\n",
              "subclasse_dig5               object\n",
              "subclasse_dig6               object\n",
              "cbo_dig1                     object\n",
              "cbo_dig2                     object\n",
              "cbo_dig3                     object\n",
              "cbo_dig4                     object\n",
              "cbo_dig5                     object\n",
              "dtype: object"
            ]
          },
          "metadata": {
            "tags": []
          },
          "execution_count": 149
        }
      ]
    },
    {
      "cell_type": "code",
      "metadata": {
        "id": "ku3adrXZG4OZ"
      },
      "source": [
        "pd_df.loc[:,'salário'] = pd_df.loc[:,'salário'].astype('float')\r\n",
        "pd_df.loc[:,'idade'] = pd_df.loc[:,'idade'].astype('int')\r\n",
        "pd_df.loc[:,'pop_estimada'] = pd_df.loc[:,'pop_estimada'].astype('float')\r\n",
        "pd_df.loc[:,'horascontratuais'] = pd_df.loc[:,'horascontratuais'].astype('int')\r\n"
      ],
      "execution_count": 150,
      "outputs": []
    },
    {
      "cell_type": "code",
      "metadata": {
        "colab": {
          "base_uri": "https://localhost:8080/",
          "height": 651
        },
        "id": "likJGK9nbdC6",
        "outputId": "62706fe2-d03c-4545-9443-3d9d1716c9f1"
      },
      "source": [
        "pd_df.groupby('horascontratuais')['salário'].describe().sort_values('mean',ascending=False).head(20)"
      ],
      "execution_count": 151,
      "outputs": [
        {
          "output_type": "execute_result",
          "data": {
            "text/html": [
              "<div>\n",
              "<style scoped>\n",
              "    .dataframe tbody tr th:only-of-type {\n",
              "        vertical-align: middle;\n",
              "    }\n",
              "\n",
              "    .dataframe tbody tr th {\n",
              "        vertical-align: top;\n",
              "    }\n",
              "\n",
              "    .dataframe thead th {\n",
              "        text-align: right;\n",
              "    }\n",
              "</style>\n",
              "<table border=\"1\" class=\"dataframe\">\n",
              "  <thead>\n",
              "    <tr style=\"text-align: right;\">\n",
              "      <th></th>\n",
              "      <th>count</th>\n",
              "      <th>mean</th>\n",
              "      <th>std</th>\n",
              "      <th>min</th>\n",
              "      <th>25%</th>\n",
              "      <th>50%</th>\n",
              "      <th>75%</th>\n",
              "      <th>max</th>\n",
              "    </tr>\n",
              "    <tr>\n",
              "      <th>horascontratuais</th>\n",
              "      <th></th>\n",
              "      <th></th>\n",
              "      <th></th>\n",
              "      <th></th>\n",
              "      <th></th>\n",
              "      <th></th>\n",
              "      <th></th>\n",
              "      <th></th>\n",
              "    </tr>\n",
              "  </thead>\n",
              "  <tbody>\n",
              "    <tr>\n",
              "      <th>59</th>\n",
              "      <td>13.0</td>\n",
              "      <td>6319.610000</td>\n",
              "      <td>7658.767609</td>\n",
              "      <td>401.65</td>\n",
              "      <td>1336.7000</td>\n",
              "      <td>2932.380</td>\n",
              "      <td>7100.0000</td>\n",
              "      <td>21688.14</td>\n",
              "    </tr>\n",
              "    <tr>\n",
              "      <th>0</th>\n",
              "      <td>8060.0</td>\n",
              "      <td>6199.544871</td>\n",
              "      <td>7046.458562</td>\n",
              "      <td>404.10</td>\n",
              "      <td>1841.6775</td>\n",
              "      <td>5316.000</td>\n",
              "      <td>7502.0000</td>\n",
              "      <td>99000.00</td>\n",
              "    </tr>\n",
              "    <tr>\n",
              "      <th>40</th>\n",
              "      <td>15067.0</td>\n",
              "      <td>4550.533677</td>\n",
              "      <td>4804.465871</td>\n",
              "      <td>400.00</td>\n",
              "      <td>1615.4700</td>\n",
              "      <td>3243.730</td>\n",
              "      <td>5722.7650</td>\n",
              "      <td>99800.00</td>\n",
              "    </tr>\n",
              "    <tr>\n",
              "      <th>56</th>\n",
              "      <td>153.0</td>\n",
              "      <td>3743.928758</td>\n",
              "      <td>5273.223481</td>\n",
              "      <td>438.00</td>\n",
              "      <td>1109.3700</td>\n",
              "      <td>2444.870</td>\n",
              "      <td>4219.0600</td>\n",
              "      <td>56000.00</td>\n",
              "    </tr>\n",
              "    <tr>\n",
              "      <th>37</th>\n",
              "      <td>260.0</td>\n",
              "      <td>3729.778500</td>\n",
              "      <td>5605.399066</td>\n",
              "      <td>407.50</td>\n",
              "      <td>1054.0000</td>\n",
              "      <td>1911.565</td>\n",
              "      <td>3580.3125</td>\n",
              "      <td>45000.00</td>\n",
              "    </tr>\n",
              "    <tr>\n",
              "      <th>11</th>\n",
              "      <td>165.0</td>\n",
              "      <td>3181.586364</td>\n",
              "      <td>9242.024838</td>\n",
              "      <td>400.00</td>\n",
              "      <td>541.5000</td>\n",
              "      <td>727.200</td>\n",
              "      <td>3168.0000</td>\n",
              "      <td>95634.00</td>\n",
              "    </tr>\n",
              "    <tr>\n",
              "      <th>49</th>\n",
              "      <td>163.0</td>\n",
              "      <td>3131.040798</td>\n",
              "      <td>3338.703892</td>\n",
              "      <td>466.78</td>\n",
              "      <td>1045.0000</td>\n",
              "      <td>1430.000</td>\n",
              "      <td>3536.0500</td>\n",
              "      <td>15000.00</td>\n",
              "    </tr>\n",
              "    <tr>\n",
              "      <th>43</th>\n",
              "      <td>1228.0</td>\n",
              "      <td>2839.620244</td>\n",
              "      <td>5100.217277</td>\n",
              "      <td>433.61</td>\n",
              "      <td>1188.5700</td>\n",
              "      <td>1546.105</td>\n",
              "      <td>2775.1125</td>\n",
              "      <td>90000.00</td>\n",
              "    </tr>\n",
              "    <tr>\n",
              "      <th>41</th>\n",
              "      <td>618.0</td>\n",
              "      <td>2838.880307</td>\n",
              "      <td>2565.549927</td>\n",
              "      <td>405.00</td>\n",
              "      <td>1280.2950</td>\n",
              "      <td>2000.000</td>\n",
              "      <td>3365.8800</td>\n",
              "      <td>29454.91</td>\n",
              "    </tr>\n",
              "    <tr>\n",
              "      <th>42</th>\n",
              "      <td>3005.0</td>\n",
              "      <td>2770.148120</td>\n",
              "      <td>3628.926154</td>\n",
              "      <td>412.50</td>\n",
              "      <td>1163.5500</td>\n",
              "      <td>1730.000</td>\n",
              "      <td>3167.0000</td>\n",
              "      <td>76866.90</td>\n",
              "    </tr>\n",
              "    <tr>\n",
              "      <th>35</th>\n",
              "      <td>425.0</td>\n",
              "      <td>2508.827741</td>\n",
              "      <td>2829.396583</td>\n",
              "      <td>420.00</td>\n",
              "      <td>1045.0000</td>\n",
              "      <td>1331.000</td>\n",
              "      <td>2950.5000</td>\n",
              "      <td>28000.00</td>\n",
              "    </tr>\n",
              "    <tr>\n",
              "      <th>14</th>\n",
              "      <td>151.0</td>\n",
              "      <td>2321.921060</td>\n",
              "      <td>9635.371761</td>\n",
              "      <td>400.82</td>\n",
              "      <td>463.1550</td>\n",
              "      <td>533.600</td>\n",
              "      <td>1045.0000</td>\n",
              "      <td>95211.90</td>\n",
              "    </tr>\n",
              "    <tr>\n",
              "      <th>60</th>\n",
              "      <td>21.0</td>\n",
              "      <td>2321.121905</td>\n",
              "      <td>1524.801458</td>\n",
              "      <td>539.41</td>\n",
              "      <td>1247.6200</td>\n",
              "      <td>1518.000</td>\n",
              "      <td>3074.0000</td>\n",
              "      <td>5756.15</td>\n",
              "    </tr>\n",
              "    <tr>\n",
              "      <th>54</th>\n",
              "      <td>150.0</td>\n",
              "      <td>2303.693667</td>\n",
              "      <td>2893.645724</td>\n",
              "      <td>499.00</td>\n",
              "      <td>1045.0000</td>\n",
              "      <td>1248.655</td>\n",
              "      <td>2138.1750</td>\n",
              "      <td>22000.00</td>\n",
              "    </tr>\n",
              "    <tr>\n",
              "      <th>45</th>\n",
              "      <td>1296.0</td>\n",
              "      <td>2275.131705</td>\n",
              "      <td>3621.792765</td>\n",
              "      <td>408.24</td>\n",
              "      <td>1068.4300</td>\n",
              "      <td>1538.310</td>\n",
              "      <td>2181.9375</td>\n",
              "      <td>77400.00</td>\n",
              "    </tr>\n",
              "    <tr>\n",
              "      <th>29</th>\n",
              "      <td>142.0</td>\n",
              "      <td>2268.143099</td>\n",
              "      <td>8330.242129</td>\n",
              "      <td>490.82</td>\n",
              "      <td>700.9200</td>\n",
              "      <td>911.700</td>\n",
              "      <td>1283.2875</td>\n",
              "      <td>98060.60</td>\n",
              "    </tr>\n",
              "    <tr>\n",
              "      <th>44</th>\n",
              "      <td>139048.0</td>\n",
              "      <td>2184.186327</td>\n",
              "      <td>3729.125071</td>\n",
              "      <td>400.00</td>\n",
              "      <td>1093.0000</td>\n",
              "      <td>1475.940</td>\n",
              "      <td>2090.0000</td>\n",
              "      <td>99000.00</td>\n",
              "    </tr>\n",
              "    <tr>\n",
              "      <th>39</th>\n",
              "      <td>306.0</td>\n",
              "      <td>2168.249935</td>\n",
              "      <td>1828.499490</td>\n",
              "      <td>499.00</td>\n",
              "      <td>1133.7125</td>\n",
              "      <td>1521.750</td>\n",
              "      <td>2590.2500</td>\n",
              "      <td>15492.00</td>\n",
              "    </tr>\n",
              "    <tr>\n",
              "      <th>38</th>\n",
              "      <td>1079.0</td>\n",
              "      <td>2100.832938</td>\n",
              "      <td>2092.265137</td>\n",
              "      <td>499.00</td>\n",
              "      <td>1045.0000</td>\n",
              "      <td>1381.520</td>\n",
              "      <td>2785.1400</td>\n",
              "      <td>25764.20</td>\n",
              "    </tr>\n",
              "    <tr>\n",
              "      <th>50</th>\n",
              "      <td>159.0</td>\n",
              "      <td>2068.312201</td>\n",
              "      <td>1887.378420</td>\n",
              "      <td>427.50</td>\n",
              "      <td>1045.0000</td>\n",
              "      <td>1410.070</td>\n",
              "      <td>2176.1350</td>\n",
              "      <td>16543.78</td>\n",
              "    </tr>\n",
              "  </tbody>\n",
              "</table>\n",
              "</div>"
            ],
            "text/plain": [
              "                     count         mean  ...        75%       max\n",
              "horascontratuais                         ...                     \n",
              "59                    13.0  6319.610000  ...  7100.0000  21688.14\n",
              "0                   8060.0  6199.544871  ...  7502.0000  99000.00\n",
              "40                 15067.0  4550.533677  ...  5722.7650  99800.00\n",
              "56                   153.0  3743.928758  ...  4219.0600  56000.00\n",
              "37                   260.0  3729.778500  ...  3580.3125  45000.00\n",
              "11                   165.0  3181.586364  ...  3168.0000  95634.00\n",
              "49                   163.0  3131.040798  ...  3536.0500  15000.00\n",
              "43                  1228.0  2839.620244  ...  2775.1125  90000.00\n",
              "41                   618.0  2838.880307  ...  3365.8800  29454.91\n",
              "42                  3005.0  2770.148120  ...  3167.0000  76866.90\n",
              "35                   425.0  2508.827741  ...  2950.5000  28000.00\n",
              "14                   151.0  2321.921060  ...  1045.0000  95211.90\n",
              "60                    21.0  2321.121905  ...  3074.0000   5756.15\n",
              "54                   150.0  2303.693667  ...  2138.1750  22000.00\n",
              "45                  1296.0  2275.131705  ...  2181.9375  77400.00\n",
              "29                   142.0  2268.143099  ...  1283.2875  98060.60\n",
              "44                139048.0  2184.186327  ...  2090.0000  99000.00\n",
              "39                   306.0  2168.249935  ...  2590.2500  15492.00\n",
              "38                  1079.0  2100.832938  ...  2785.1400  25764.20\n",
              "50                   159.0  2068.312201  ...  2176.1350  16543.78\n",
              "\n",
              "[20 rows x 8 columns]"
            ]
          },
          "metadata": {
            "tags": []
          },
          "execution_count": 151
        }
      ]
    },
    {
      "cell_type": "code",
      "metadata": {
        "id": "_zmCw9kkdmwS"
      },
      "source": [
        "\r\n",
        "#pd_df.loc[:,'salário']\r\n",
        "pd_df.loc[pd_df.loc[:,'horascontratuais']<20,'horascontratuais'] = pd_df.horascontratuais.median()"
      ],
      "execution_count": 152,
      "outputs": []
    },
    {
      "cell_type": "code",
      "metadata": {
        "colab": {
          "base_uri": "https://localhost:8080/"
        },
        "id": "-EvyBPZUfJeC",
        "outputId": "0fef4e1f-7aef-4c52-ee68-4b5d104d61fd"
      },
      "source": [
        "pd_df.loc[:,'valorhora'] = pd_df.loc[:,'salário']/pd_df.horascontratuais\r\n",
        "pd_df.loc[:,'valorhora'].describe()"
      ],
      "execution_count": 153,
      "outputs": [
        {
          "output_type": "execute_result",
          "data": {
            "text/plain": [
              "count    249488.000000\n",
              "mean         53.726779\n",
              "std         102.657430\n",
              "min           4.040404\n",
              "25%          24.541500\n",
              "50%          30.522727\n",
              "75%          47.727273\n",
              "max        4990.000000\n",
              "Name: valorhora, dtype: float64"
            ]
          },
          "metadata": {
            "tags": []
          },
          "execution_count": 153
        }
      ]
    },
    {
      "cell_type": "code",
      "metadata": {
        "colab": {
          "base_uri": "https://localhost:8080/",
          "height": 1000
        },
        "id": "BkyqQs05MS_M",
        "outputId": "d4f452a9-dee3-4124-91d1-06c3cdc7350f"
      },
      "source": [
        "pd_df.horascontratuais.hist(bins=100)\r\n",
        "plt.show()\r\n",
        "pd_df.horascontratuais.plot.density()\r\n",
        "plt.show()\r\n",
        "pd_df.loc[:,'salário'].hist(bins=100)\r\n",
        "plt.show()\r\n",
        "pd_df.loc[:,'salário'].plot.density()\r\n",
        "plt.show()\r\n",
        "np.log1p(pd_df.loc[:,'salário']).hist(bins=100)\r\n",
        "plt.show()\r\n",
        "np.log1p(pd_df.loc[:,'salário']).plot.density()\r\n",
        "plt.show()"
      ],
      "execution_count": 154,
      "outputs": [
        {
          "output_type": "display_data",
          "data": {
            "image/png": "[encoded data removed]",
            "text/plain": [
              "<Figure size 432x288 with 1 Axes>"
            ]
          },
          "metadata": {
            "tags": [],
            "needs_background": "light"
          }
        },
        {
          "output_type": "display_data",
          "data": {
            "image/png": "[encoded data removed]",
            "text/plain": [
              "<Figure size 432x288 with 1 Axes>"
            ]
          },
          "metadata": {
            "tags": [],
            "needs_background": "light"
          }
        },
        {
          "output_type": "display_data",
          "data": {
            "image/png": "[encoded data removed]",
            "text/plain": [
              "<Figure size 432x288 with 1 Axes>"
            ]
          },
          "metadata": {
            "tags": [],
            "needs_background": "light"
          }
        },
        {
          "output_type": "display_data",
          "data": {
            "image/png": "[encoded data removed]",
            "text/plain": [
              "<Figure size 432x288 with 1 Axes>"
            ]
          },
          "metadata": {
            "tags": [],
            "needs_background": "light"
          }
        },
        {
          "output_type": "display_data",
          "data": {
            "image/png": "[encoded data removed]",
            "text/plain": [
              "<Figure size 432x288 with 1 Axes>"
            ]
          },
          "metadata": {
            "tags": [],
            "needs_background": "light"
          }
        },
        {
          "output_type": "display_data",
          "data": {
            "image/png": "[encoded data removed]",
            "text/plain": [
              "<Figure size 432x288 with 1 Axes>"
            ]
          },
          "metadata": {
            "tags": [],
            "needs_background": "light"
          }
        }
      ]
    },
    {
      "cell_type": "code",
      "metadata": {
        "colab": {
          "base_uri": "https://localhost:8080/"
        },
        "id": "n4IXQBLDISci",
        "outputId": "8f87fd67-b2d0-418f-e6ae-259f84312983"
      },
      "source": [
        "cat_cols = pd_df.columns[pd_df.columns.str.contains('Descrição|dig')].tolist()\r\n",
        "cat_cols"
      ],
      "execution_count": 171,
      "outputs": [
        {
          "output_type": "execute_result",
          "data": {
            "text/plain": [
              "['Descrição_região',\n",
              " 'Descrição_uf',\n",
              " 'Descrição_município',\n",
              " 'Descrição_seção',\n",
              " 'Descrição_subclasse',\n",
              " 'Descrição_categoria',\n",
              " 'Descrição_cbo2002ocupação',\n",
              " 'Descrição_graudeinstrução',\n",
              " 'Descrição_sexo',\n",
              " 'Descrição_raçacor',\n",
              " 'Descrição_tamestabjan',\n",
              " 'subclasse_dig1',\n",
              " 'subclasse_dig2',\n",
              " 'subclasse_dig3',\n",
              " 'subclasse_dig4',\n",
              " 'subclasse_dig5',\n",
              " 'subclasse_dig6',\n",
              " 'cbo_dig1',\n",
              " 'cbo_dig2',\n",
              " 'cbo_dig3',\n",
              " 'cbo_dig4',\n",
              " 'cbo_dig5',\n",
              " 'município_dig3',\n",
              " 'município_dig4',\n",
              " 'município_dig5']"
            ]
          },
          "metadata": {
            "tags": []
          },
          "execution_count": 171
        }
      ]
    },
    {
      "cell_type": "code",
      "metadata": {
        "id": "-ADyVYiXLc5Z"
      },
      "source": [
        "int_cols = pd_df.columns[pd_df.columns.str.contains('idade|pop_')].tolist()\r\n"
      ],
      "execution_count": 172,
      "outputs": []
    },
    {
      "cell_type": "code",
      "metadata": {
        "colab": {
          "base_uri": "https://localhost:8080/"
        },
        "id": "5B1EWOngqjmx",
        "outputId": "993a5aaa-f713-4539-8c77-0cc7ad3774c2"
      },
      "source": [
        "target_cols = pd_df.columns[pd_df.columns.str.contains('salário|valor')].tolist()\r\n",
        "target_cols"
      ],
      "execution_count": 175,
      "outputs": [
        {
          "output_type": "execute_result",
          "data": {
            "text/plain": [
              "['salário', 'valorhora']"
            ]
          },
          "metadata": {
            "tags": []
          },
          "execution_count": 175
        }
      ]
    },
    {
      "cell_type": "code",
      "metadata": {
        "id": "mhvg1dJqqk3T"
      },
      "source": [
        "pd_df.loc[:,cat_cols+int_cols+target_cols].to_csv('drive/MyDrive/publicdataml/sample_data_featured.csv')"
      ],
      "execution_count": 177,
      "outputs": []
    },
    {
      "cell_type": "code",
      "metadata": {
        "id": "DvOpfXPeq_B7"
      },
      "source": [
        ""
      ],
      "execution_count": null,
      "outputs": []
    }
  ]
}