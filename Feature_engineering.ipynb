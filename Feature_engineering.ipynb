{
  "nbformat": 4,
  "nbformat_minor": 0,
  "metadata": {
    "colab": {
      "name": "Feature engineering.ipynb",
      "provenance": [],
      "toc_visible": true,
      "authorship_tag": "ABX9TyMJZvPNldIz6RxOHXTqSGfR",
      "include_colab_link": true
    },
    "kernelspec": {
      "name": "python3",
      "display_name": "Python 3"
    }
  },
  "cells": [
    {
      "cell_type": "markdown",
      "metadata": {
        "id": "view-in-github",
        "colab_type": "text"
      },
      "source": [
        "<a href=\"https://colab.research.google.com/github/brunotagoncalves/publicdataml/blob/main/Feature_engineering.ipynb\" target=\"_parent\"><img src=\"https://colab.research.google.com/assets/colab-badge.svg\" alt=\"Open In Colab\"/></a>"
      ]
    },
    {
      "cell_type": "markdown",
      "metadata": {
        "id": "dBDS_U6FF9c0"
      },
      "source": [
        "## 2.\tFeature engineering\r\n"
      ]
    },
    {
      "cell_type": "code",
      "metadata": {
        "colab": {
          "base_uri": "https://localhost:8080/"
        },
        "id": "YAGQgj9HGRBI",
        "outputId": "502185f4-9d78-4bd0-b266-6d7df206a441"
      },
      "source": [
        "from google.colab import drive\r\n",
        "drive.mount('/content/drive')\r\n"
      ],
      "execution_count": 2,
      "outputs": [
        {
          "output_type": "stream",
          "text": [
            "Mounted at /content/drive\n"
          ],
          "name": "stdout"
        }
      ]
    },
    {
      "cell_type": "code",
      "metadata": {
        "id": "Sqp6V871ZZf6"
      },
      "source": [
        "import pandas as pd \r\n",
        "import numpy as np\r\n",
        "import matplotlib.pyplot as plt"
      ],
      "execution_count": 2,
      "outputs": []
    },
    {
      "cell_type": "code",
      "metadata": {
        "id": "tLvdOSTAGW9d"
      },
      "source": [
        "pd_df = pd.read_csv('drive/MyDrive/publicdataml/sample_data_v1.csv',index_col=0,dtype='object')"
      ],
      "execution_count": 4,
      "outputs": []
    },
    {
      "cell_type": "code",
      "metadata": {
        "id": "_42oHQ3KiLCb"
      },
      "source": [
        "pd_df.subclasse = pd_df.subclasse.str.zfill(7)\r\n",
        "for i in range(1,pd_df.subclasse.str.len().max()):\r\n",
        "  pd_df.loc[:,'subclasse_dig'+str(i)] = pd_df.loc[:,'subclasse'].str[:i]  "
      ],
      "execution_count": 5,
      "outputs": []
    },
    {
      "cell_type": "code",
      "metadata": {
        "id": "EOjSLnJLlBDJ"
      },
      "source": [
        "pd_df.loc[:,'cbo2002ocupação'] = pd_df.loc[:,'cbo2002ocupação'].str.zfill(6)\r\n",
        "for i in range(1,pd_df.loc[:,'cbo2002ocupação'].str.len().max()):\r\n",
        "  pd_df.loc[:,'cbo_dig'+str(i)] = pd_df.loc[:,'cbo2002ocupação'].str[:i]  "
      ],
      "execution_count": 6,
      "outputs": []
    },
    {
      "cell_type": "code",
      "metadata": {
        "id": "n2IOq1iHnSs8"
      },
      "source": [
        "for i in range(3,pd_df.loc[:,'município'].str.len().max()):\r\n",
        "  pd_df.loc[:,'município_dig'+str(i)] = pd_df.loc[:,'município'].str[:i]  "
      ],
      "execution_count": 7,
      "outputs": []
    },
    {
      "cell_type": "code",
      "metadata": {
        "id": "ku3adrXZG4OZ"
      },
      "source": [
        "pd_df.loc[:,'salário'] = pd_df.loc[:,'salário'].astype('float')\r\n",
        "pd_df.loc[:,'idade'] = pd_df.loc[:,'idade'].astype('int')\r\n",
        "pd_df.loc[:,'pop_estimada'] = pd_df.loc[:,'pop_estimada'].astype('float')\r\n",
        "pd_df.loc[:,'horascontratuais'] = pd_df.loc[:,'horascontratuais'].astype('int')\r\n"
      ],
      "execution_count": 11,
      "outputs": []
    },
    {
      "cell_type": "code",
      "metadata": {
        "colab": {
          "base_uri": "https://localhost:8080/",
          "height": 452
        },
        "id": "gZp2CxneoHc-",
        "outputId": "c330d2e9-9e4e-4d03-979f-7734da7ad95e"
      },
      "source": [
        "pd_df.groupby(['graudeinstrução','Descrição_graudeinstrução'])['salário'].describe().sort_values('mean') # não parece ordinal"
      ],
      "execution_count": 12,
      "outputs": [
        {
          "output_type": "execute_result",
          "data": {
            "text/html": [
              "<div>\n",
              "<style scoped>\n",
              "    .dataframe tbody tr th:only-of-type {\n",
              "        vertical-align: middle;\n",
              "    }\n",
              "\n",
              "    .dataframe tbody tr th {\n",
              "        vertical-align: top;\n",
              "    }\n",
              "\n",
              "    .dataframe thead th {\n",
              "        text-align: right;\n",
              "    }\n",
              "</style>\n",
              "<table border=\"1\" class=\"dataframe\">\n",
              "  <thead>\n",
              "    <tr style=\"text-align: right;\">\n",
              "      <th></th>\n",
              "      <th></th>\n",
              "      <th>count</th>\n",
              "      <th>mean</th>\n",
              "      <th>std</th>\n",
              "      <th>min</th>\n",
              "      <th>25%</th>\n",
              "      <th>50%</th>\n",
              "      <th>75%</th>\n",
              "      <th>max</th>\n",
              "    </tr>\n",
              "    <tr>\n",
              "      <th>graudeinstrução</th>\n",
              "      <th>Descrição_graudeinstrução</th>\n",
              "      <th></th>\n",
              "      <th></th>\n",
              "      <th></th>\n",
              "      <th></th>\n",
              "      <th></th>\n",
              "      <th></th>\n",
              "      <th></th>\n",
              "      <th></th>\n",
              "    </tr>\n",
              "  </thead>\n",
              "  <tbody>\n",
              "    <tr>\n",
              "      <th>6</th>\n",
              "      <th>Médio Incompleto</th>\n",
              "      <td>28741.0</td>\n",
              "      <td>1032.004788</td>\n",
              "      <td>1741.373317</td>\n",
              "      <td>400.0</td>\n",
              "      <td>522.5000</td>\n",
              "      <td>624.000</td>\n",
              "      <td>1143.9300</td>\n",
              "      <td>49500.00</td>\n",
              "    </tr>\n",
              "    <tr>\n",
              "      <th>4</th>\n",
              "      <th>6ª a 9ª Fundamental</th>\n",
              "      <td>11558.0</td>\n",
              "      <td>1344.680383</td>\n",
              "      <td>1354.916347</td>\n",
              "      <td>400.0</td>\n",
              "      <td>654.7300</td>\n",
              "      <td>1096.350</td>\n",
              "      <td>1551.0000</td>\n",
              "      <td>47500.00</td>\n",
              "    </tr>\n",
              "    <tr>\n",
              "      <th>1</th>\n",
              "      <th>Analfabeto</th>\n",
              "      <td>797.0</td>\n",
              "      <td>1378.250652</td>\n",
              "      <td>1274.655924</td>\n",
              "      <td>400.0</td>\n",
              "      <td>1045.0000</td>\n",
              "      <td>1060.490</td>\n",
              "      <td>1391.0000</td>\n",
              "      <td>24200.00</td>\n",
              "    </tr>\n",
              "    <tr>\n",
              "      <th>2</th>\n",
              "      <th>Até 5ª Incompleto</th>\n",
              "      <td>4751.0</td>\n",
              "      <td>1482.551292</td>\n",
              "      <td>1382.176362</td>\n",
              "      <td>400.0</td>\n",
              "      <td>1045.0000</td>\n",
              "      <td>1163.550</td>\n",
              "      <td>1619.8700</td>\n",
              "      <td>35602.80</td>\n",
              "    </tr>\n",
              "    <tr>\n",
              "      <th>5</th>\n",
              "      <th>Fundamental Completo</th>\n",
              "      <td>16818.0</td>\n",
              "      <td>1566.155659</td>\n",
              "      <td>1902.855373</td>\n",
              "      <td>400.0</td>\n",
              "      <td>1039.0000</td>\n",
              "      <td>1239.000</td>\n",
              "      <td>1714.0000</td>\n",
              "      <td>49500.00</td>\n",
              "    </tr>\n",
              "    <tr>\n",
              "      <th>3</th>\n",
              "      <th>5ª Completo Fundamental</th>\n",
              "      <td>3661.0</td>\n",
              "      <td>1574.430322</td>\n",
              "      <td>1549.472927</td>\n",
              "      <td>400.0</td>\n",
              "      <td>1045.0000</td>\n",
              "      <td>1212.000</td>\n",
              "      <td>1716.0000</td>\n",
              "      <td>39000.00</td>\n",
              "    </tr>\n",
              "    <tr>\n",
              "      <th>7</th>\n",
              "      <th>Médio Completo</th>\n",
              "      <td>132792.0</td>\n",
              "      <td>1602.718024</td>\n",
              "      <td>1887.433051</td>\n",
              "      <td>400.0</td>\n",
              "      <td>998.0000</td>\n",
              "      <td>1191.865</td>\n",
              "      <td>1678.1675</td>\n",
              "      <td>49500.00</td>\n",
              "    </tr>\n",
              "    <tr>\n",
              "      <th>8</th>\n",
              "      <th>Superior Incompleto</th>\n",
              "      <td>11295.0</td>\n",
              "      <td>2035.253167</td>\n",
              "      <td>2206.561207</td>\n",
              "      <td>400.0</td>\n",
              "      <td>903.0150</td>\n",
              "      <td>1370.300</td>\n",
              "      <td>2699.0000</td>\n",
              "      <td>49093.00</td>\n",
              "    </tr>\n",
              "    <tr>\n",
              "      <th>9</th>\n",
              "      <th>Superior Completo</th>\n",
              "      <td>33997.0</td>\n",
              "      <td>4396.923517</td>\n",
              "      <td>4195.914499</td>\n",
              "      <td>400.0</td>\n",
              "      <td>2000.0000</td>\n",
              "      <td>3324.000</td>\n",
              "      <td>5153.3700</td>\n",
              "      <td>50000.00</td>\n",
              "    </tr>\n",
              "    <tr>\n",
              "      <th>11</th>\n",
              "      <th>Doutorado</th>\n",
              "      <td>376.0</td>\n",
              "      <td>6597.007926</td>\n",
              "      <td>6877.729198</td>\n",
              "      <td>400.0</td>\n",
              "      <td>2493.4925</td>\n",
              "      <td>4982.235</td>\n",
              "      <td>8516.2500</td>\n",
              "      <td>47366.00</td>\n",
              "    </tr>\n",
              "    <tr>\n",
              "      <th>80</th>\n",
              "      <th>Pós-Graduação completa</th>\n",
              "      <td>4460.0</td>\n",
              "      <td>6678.385269</td>\n",
              "      <td>5903.598168</td>\n",
              "      <td>400.0</td>\n",
              "      <td>3092.9450</td>\n",
              "      <td>4900.000</td>\n",
              "      <td>8500.0000</td>\n",
              "      <td>47096.65</td>\n",
              "    </tr>\n",
              "    <tr>\n",
              "      <th>10</th>\n",
              "      <th>Mestrado</th>\n",
              "      <td>1061.0</td>\n",
              "      <td>6828.803629</td>\n",
              "      <td>7488.590292</td>\n",
              "      <td>400.0</td>\n",
              "      <td>1365.0000</td>\n",
              "      <td>4731.200</td>\n",
              "      <td>9242.2000</td>\n",
              "      <td>46860.00</td>\n",
              "    </tr>\n",
              "  </tbody>\n",
              "</table>\n",
              "</div>"
            ],
            "text/plain": [
              "                                              count  ...       max\n",
              "graudeinstrução Descrição_graudeinstrução            ...          \n",
              "6               Médio Incompleto            28741.0  ...  49500.00\n",
              "4               6ª a 9ª Fundamental         11558.0  ...  47500.00\n",
              "1               Analfabeto                    797.0  ...  24200.00\n",
              "2               Até 5ª Incompleto            4751.0  ...  35602.80\n",
              "5               Fundamental Completo        16818.0  ...  49500.00\n",
              "3               5ª Completo Fundamental      3661.0  ...  39000.00\n",
              "7               Médio Completo             132792.0  ...  49500.00\n",
              "8               Superior Incompleto         11295.0  ...  49093.00\n",
              "9               Superior Completo           33997.0  ...  50000.00\n",
              "11              Doutorado                     376.0  ...  47366.00\n",
              "80              Pós-Graduação completa       4460.0  ...  47096.65\n",
              "10              Mestrado                     1061.0  ...  46860.00\n",
              "\n",
              "[12 rows x 8 columns]"
            ]
          },
          "metadata": {
            "tags": []
          },
          "execution_count": 12
        }
      ]
    },
    {
      "cell_type": "code",
      "metadata": {
        "colab": {
          "base_uri": "https://localhost:8080/"
        },
        "id": "EttMO2MeGf2o",
        "outputId": "0fc2f497-cca0-484e-a879-455712a6fbc2"
      },
      "source": [
        "pd_df.dtypes"
      ],
      "execution_count": 13,
      "outputs": [
        {
          "output_type": "execute_result",
          "data": {
            "text/plain": [
              "município                     object\n",
              "tamestabjan                   object\n",
              "raçacor                       object\n",
              "sexo                          object\n",
              "graudeinstrução               object\n",
              "cbo2002ocupação               object\n",
              "categoria                     object\n",
              "subclasse                     object\n",
              "seção                         object\n",
              "uf                            object\n",
              "região                        object\n",
              "competência                   object\n",
              "saldomovimentação             object\n",
              "idade                          int64\n",
              "horascontratuais               int64\n",
              "tipoempregador                object\n",
              "tipoestabelecimento           object\n",
              "tipomovimentação              object\n",
              "tipodedeficiência             object\n",
              "indtrabintermitente           object\n",
              "indtrabparcial                object\n",
              "salário                      float64\n",
              "indicadoraprendiz             object\n",
              "fonte                         object\n",
              "faixapnad                     object\n",
              "Descrição_região              object\n",
              "Descrição_uf                  object\n",
              "Descrição_município           object\n",
              "Descrição_seção               object\n",
              "Descrição_subclasse           object\n",
              "Descrição_categoria           object\n",
              "Descrição_cbo2002ocupação     object\n",
              "Descrição_graudeinstrução     object\n",
              "Descrição_sexo                object\n",
              "Descrição_raçacor             object\n",
              "Descrição_tamestabjan         object\n",
              "pop_estimada                 float64\n",
              "subclasse_dig1                object\n",
              "subclasse_dig2                object\n",
              "subclasse_dig3                object\n",
              "subclasse_dig4                object\n",
              "subclasse_dig5                object\n",
              "subclasse_dig6                object\n",
              "cbo_dig1                      object\n",
              "cbo_dig2                      object\n",
              "cbo_dig3                      object\n",
              "cbo_dig4                      object\n",
              "cbo_dig5                      object\n",
              "município_dig3                object\n",
              "município_dig4                object\n",
              "município_dig5                object\n",
              "dtype: object"
            ]
          },
          "metadata": {
            "tags": []
          },
          "execution_count": 13
        }
      ]
    },
    {
      "cell_type": "code",
      "metadata": {
        "colab": {
          "base_uri": "https://localhost:8080/",
          "height": 700
        },
        "id": "likJGK9nbdC6",
        "outputId": "70a3f97d-cc44-4b75-d228-bf878aee0fd5"
      },
      "source": [
        "pd_df.groupby('horascontratuais')['salário'].describe().sort_values('mean',ascending=False).head(20)"
      ],
      "execution_count": 14,
      "outputs": [
        {
          "output_type": "execute_result",
          "data": {
            "text/html": [
              "<div>\n",
              "<style scoped>\n",
              "    .dataframe tbody tr th:only-of-type {\n",
              "        vertical-align: middle;\n",
              "    }\n",
              "\n",
              "    .dataframe tbody tr th {\n",
              "        vertical-align: top;\n",
              "    }\n",
              "\n",
              "    .dataframe thead th {\n",
              "        text-align: right;\n",
              "    }\n",
              "</style>\n",
              "<table border=\"1\" class=\"dataframe\">\n",
              "  <thead>\n",
              "    <tr style=\"text-align: right;\">\n",
              "      <th></th>\n",
              "      <th>count</th>\n",
              "      <th>mean</th>\n",
              "      <th>std</th>\n",
              "      <th>min</th>\n",
              "      <th>25%</th>\n",
              "      <th>50%</th>\n",
              "      <th>75%</th>\n",
              "      <th>max</th>\n",
              "    </tr>\n",
              "    <tr>\n",
              "      <th>horascontratuais</th>\n",
              "      <th></th>\n",
              "      <th></th>\n",
              "      <th></th>\n",
              "      <th></th>\n",
              "      <th></th>\n",
              "      <th></th>\n",
              "      <th></th>\n",
              "      <th></th>\n",
              "    </tr>\n",
              "  </thead>\n",
              "  <tbody>\n",
              "    <tr>\n",
              "      <th>59</th>\n",
              "      <td>17.0</td>\n",
              "      <td>8574.595882</td>\n",
              "      <td>10998.965888</td>\n",
              "      <td>485.19</td>\n",
              "      <td>1372.8000</td>\n",
              "      <td>2722.000</td>\n",
              "      <td>10262.9300</td>\n",
              "      <td>39600.00</td>\n",
              "    </tr>\n",
              "    <tr>\n",
              "      <th>0</th>\n",
              "      <td>8079.0</td>\n",
              "      <td>5942.260926</td>\n",
              "      <td>5754.127792</td>\n",
              "      <td>400.00</td>\n",
              "      <td>1824.1350</td>\n",
              "      <td>5313.000</td>\n",
              "      <td>7379.8750</td>\n",
              "      <td>49500.00</td>\n",
              "    </tr>\n",
              "    <tr>\n",
              "      <th>40</th>\n",
              "      <td>15025.0</td>\n",
              "      <td>4535.172856</td>\n",
              "      <td>4433.759520</td>\n",
              "      <td>400.00</td>\n",
              "      <td>1607.7600</td>\n",
              "      <td>3291.000</td>\n",
              "      <td>5734.5900</td>\n",
              "      <td>49231.00</td>\n",
              "    </tr>\n",
              "    <tr>\n",
              "      <th>57</th>\n",
              "      <td>7.0</td>\n",
              "      <td>3596.641429</td>\n",
              "      <td>2974.636052</td>\n",
              "      <td>1125.00</td>\n",
              "      <td>1176.9450</td>\n",
              "      <td>1721.460</td>\n",
              "      <td>5926.9900</td>\n",
              "      <td>8122.16</td>\n",
              "    </tr>\n",
              "    <tr>\n",
              "      <th>37</th>\n",
              "      <td>302.0</td>\n",
              "      <td>3276.490132</td>\n",
              "      <td>3467.670180</td>\n",
              "      <td>424.08</td>\n",
              "      <td>1129.3950</td>\n",
              "      <td>1925.840</td>\n",
              "      <td>3874.7500</td>\n",
              "      <td>23173.38</td>\n",
              "    </tr>\n",
              "    <tr>\n",
              "      <th>56</th>\n",
              "      <td>172.0</td>\n",
              "      <td>3203.789826</td>\n",
              "      <td>3350.704037</td>\n",
              "      <td>432.60</td>\n",
              "      <td>1093.5225</td>\n",
              "      <td>1836.430</td>\n",
              "      <td>4098.8200</td>\n",
              "      <td>22400.00</td>\n",
              "    </tr>\n",
              "    <tr>\n",
              "      <th>49</th>\n",
              "      <td>216.0</td>\n",
              "      <td>3168.670417</td>\n",
              "      <td>3709.680438</td>\n",
              "      <td>553.71</td>\n",
              "      <td>1045.0000</td>\n",
              "      <td>1508.310</td>\n",
              "      <td>3404.8950</td>\n",
              "      <td>25231.05</td>\n",
              "    </tr>\n",
              "    <tr>\n",
              "      <th>41</th>\n",
              "      <td>613.0</td>\n",
              "      <td>2976.368140</td>\n",
              "      <td>3092.191362</td>\n",
              "      <td>429.10</td>\n",
              "      <td>1250.0000</td>\n",
              "      <td>2184.000</td>\n",
              "      <td>3448.6800</td>\n",
              "      <td>36570.00</td>\n",
              "    </tr>\n",
              "    <tr>\n",
              "      <th>11</th>\n",
              "      <td>179.0</td>\n",
              "      <td>2809.535698</td>\n",
              "      <td>5741.764825</td>\n",
              "      <td>400.00</td>\n",
              "      <td>532.9400</td>\n",
              "      <td>699.830</td>\n",
              "      <td>3588.8500</td>\n",
              "      <td>40500.00</td>\n",
              "    </tr>\n",
              "    <tr>\n",
              "      <th>42</th>\n",
              "      <td>3044.0</td>\n",
              "      <td>2643.949021</td>\n",
              "      <td>2760.542068</td>\n",
              "      <td>412.60</td>\n",
              "      <td>1174.8875</td>\n",
              "      <td>1700.000</td>\n",
              "      <td>3158.9600</td>\n",
              "      <td>38560.20</td>\n",
              "    </tr>\n",
              "    <tr>\n",
              "      <th>47</th>\n",
              "      <td>118.0</td>\n",
              "      <td>2443.833390</td>\n",
              "      <td>3027.968112</td>\n",
              "      <td>446.43</td>\n",
              "      <td>1045.0000</td>\n",
              "      <td>1339.345</td>\n",
              "      <td>2494.4675</td>\n",
              "      <td>23993.34</td>\n",
              "    </tr>\n",
              "    <tr>\n",
              "      <th>43</th>\n",
              "      <td>1242.0</td>\n",
              "      <td>2435.167963</td>\n",
              "      <td>2998.213705</td>\n",
              "      <td>433.61</td>\n",
              "      <td>1149.8875</td>\n",
              "      <td>1544.725</td>\n",
              "      <td>2750.4400</td>\n",
              "      <td>48762.00</td>\n",
              "    </tr>\n",
              "    <tr>\n",
              "      <th>35</th>\n",
              "      <td>421.0</td>\n",
              "      <td>2432.509240</td>\n",
              "      <td>3049.355019</td>\n",
              "      <td>430.11</td>\n",
              "      <td>1018.4400</td>\n",
              "      <td>1267.120</td>\n",
              "      <td>2726.0600</td>\n",
              "      <td>31404.00</td>\n",
              "    </tr>\n",
              "    <tr>\n",
              "      <th>58</th>\n",
              "      <td>31.0</td>\n",
              "      <td>2320.173871</td>\n",
              "      <td>1906.184121</td>\n",
              "      <td>405.09</td>\n",
              "      <td>1045.0000</td>\n",
              "      <td>1567.000</td>\n",
              "      <td>3000.0000</td>\n",
              "      <td>8850.16</td>\n",
              "    </tr>\n",
              "    <tr>\n",
              "      <th>50</th>\n",
              "      <td>141.0</td>\n",
              "      <td>2239.989929</td>\n",
              "      <td>2666.935102</td>\n",
              "      <td>480.00</td>\n",
              "      <td>1045.0000</td>\n",
              "      <td>1355.860</td>\n",
              "      <td>2144.9300</td>\n",
              "      <td>18000.00</td>\n",
              "    </tr>\n",
              "    <tr>\n",
              "      <th>39</th>\n",
              "      <td>280.0</td>\n",
              "      <td>2187.087429</td>\n",
              "      <td>2005.337845</td>\n",
              "      <td>493.97</td>\n",
              "      <td>1074.6125</td>\n",
              "      <td>1546.535</td>\n",
              "      <td>2667.1100</td>\n",
              "      <td>20000.00</td>\n",
              "    </tr>\n",
              "    <tr>\n",
              "      <th>33</th>\n",
              "      <td>785.0</td>\n",
              "      <td>2137.728828</td>\n",
              "      <td>2635.967108</td>\n",
              "      <td>411.75</td>\n",
              "      <td>946.7200</td>\n",
              "      <td>1000.000</td>\n",
              "      <td>2200.0000</td>\n",
              "      <td>33000.00</td>\n",
              "    </tr>\n",
              "    <tr>\n",
              "      <th>38</th>\n",
              "      <td>1106.0</td>\n",
              "      <td>2116.496447</td>\n",
              "      <td>2423.143717</td>\n",
              "      <td>430.18</td>\n",
              "      <td>1045.0000</td>\n",
              "      <td>1379.170</td>\n",
              "      <td>2546.1450</td>\n",
              "      <td>25764.20</td>\n",
              "    </tr>\n",
              "    <tr>\n",
              "      <th>45</th>\n",
              "      <td>1399.0</td>\n",
              "      <td>2102.959350</td>\n",
              "      <td>2163.746858</td>\n",
              "      <td>417.30</td>\n",
              "      <td>1045.0000</td>\n",
              "      <td>1531.200</td>\n",
              "      <td>2293.7700</td>\n",
              "      <td>38938.00</td>\n",
              "    </tr>\n",
              "    <tr>\n",
              "      <th>52</th>\n",
              "      <td>132.0</td>\n",
              "      <td>2093.484697</td>\n",
              "      <td>1272.049011</td>\n",
              "      <td>480.00</td>\n",
              "      <td>1194.9875</td>\n",
              "      <td>1594.125</td>\n",
              "      <td>2959.6625</td>\n",
              "      <td>9318.40</td>\n",
              "    </tr>\n",
              "  </tbody>\n",
              "</table>\n",
              "</div>"
            ],
            "text/plain": [
              "                    count         mean  ...         75%       max\n",
              "horascontratuais                        ...                      \n",
              "59                   17.0  8574.595882  ...  10262.9300  39600.00\n",
              "0                  8079.0  5942.260926  ...   7379.8750  49500.00\n",
              "40                15025.0  4535.172856  ...   5734.5900  49231.00\n",
              "57                    7.0  3596.641429  ...   5926.9900   8122.16\n",
              "37                  302.0  3276.490132  ...   3874.7500  23173.38\n",
              "56                  172.0  3203.789826  ...   4098.8200  22400.00\n",
              "49                  216.0  3168.670417  ...   3404.8950  25231.05\n",
              "41                  613.0  2976.368140  ...   3448.6800  36570.00\n",
              "11                  179.0  2809.535698  ...   3588.8500  40500.00\n",
              "42                 3044.0  2643.949021  ...   3158.9600  38560.20\n",
              "47                  118.0  2443.833390  ...   2494.4675  23993.34\n",
              "43                 1242.0  2435.167963  ...   2750.4400  48762.00\n",
              "35                  421.0  2432.509240  ...   2726.0600  31404.00\n",
              "58                   31.0  2320.173871  ...   3000.0000   8850.16\n",
              "50                  141.0  2239.989929  ...   2144.9300  18000.00\n",
              "39                  280.0  2187.087429  ...   2667.1100  20000.00\n",
              "33                  785.0  2137.728828  ...   2200.0000  33000.00\n",
              "38                 1106.0  2116.496447  ...   2546.1450  25764.20\n",
              "45                 1399.0  2102.959350  ...   2293.7700  38938.00\n",
              "52                  132.0  2093.484697  ...   2959.6625   9318.40\n",
              "\n",
              "[20 rows x 8 columns]"
            ]
          },
          "metadata": {
            "tags": []
          },
          "execution_count": 14
        }
      ]
    },
    {
      "cell_type": "code",
      "metadata": {
        "id": "_zmCw9kkdmwS"
      },
      "source": [
        "\r\n",
        "#pd_df.loc[:,'salário']\r\n",
        "pd_df.loc[pd_df.loc[:,'horascontratuais']<20,'horascontratuais'] = pd_df.horascontratuais.median()"
      ],
      "execution_count": 15,
      "outputs": []
    },
    {
      "cell_type": "code",
      "metadata": {
        "colab": {
          "base_uri": "https://localhost:8080/"
        },
        "id": "-EvyBPZUfJeC",
        "outputId": "b02631c0-6317-4649-8910-7e5bb9d6fd39"
      },
      "source": [
        "pd_df.loc[:,'valorhora'] = pd_df.loc[:,'salário']/pd_df.horascontratuais\r\n",
        "pd_df.loc[:,'valorhora'].describe()"
      ],
      "execution_count": 16,
      "outputs": [
        {
          "output_type": "execute_result",
          "data": {
            "text/plain": [
              "count    250307.000000\n",
              "mean         50.946691\n",
              "std          67.731855\n",
              "min           4.042121\n",
              "25%          24.541500\n",
              "50%          30.431818\n",
              "75%          47.604318\n",
              "max        2470.000000\n",
              "Name: valorhora, dtype: float64"
            ]
          },
          "metadata": {
            "tags": []
          },
          "execution_count": 16
        }
      ]
    },
    {
      "cell_type": "code",
      "metadata": {
        "colab": {
          "base_uri": "https://localhost:8080/",
          "height": 1000
        },
        "id": "BkyqQs05MS_M",
        "outputId": "ae39b984-6220-4f60-e6d0-e99f2ef3bc4c"
      },
      "source": [
        "pd_df.horascontratuais.hist(bins=100)\r\n",
        "plt.show()\r\n",
        "pd_df.horascontratuais.plot.density()\r\n",
        "plt.show()\r\n",
        "pd_df.loc[:,'salário'].hist(bins=100)\r\n",
        "plt.show()\r\n",
        "pd_df.loc[:,'salário'].plot.density()\r\n",
        "plt.show()\r\n",
        "np.log1p(pd_df.loc[:,'salário']).hist(bins=100)\r\n",
        "plt.show()\r\n",
        "np.log1p(pd_df.loc[:,'salário']).plot.density()\r\n",
        "plt.show()"
      ],
      "execution_count": 17,
      "outputs": [
        {
          "output_type": "display_data",
          "data": {
            "image/png": "[encoded data removed]",
            "text/plain": [
              "<Figure size 432x288 with 1 Axes>"
            ]
          },
          "metadata": {
            "tags": [],
            "needs_background": "light"
          }
        },
        {
          "output_type": "display_data",
          "data": {
            "image/png": "[encoded data removed]",
            "text/plain": [
              "<Figure size 432x288 with 1 Axes>"
            ]
          },
          "metadata": {
            "tags": [],
            "needs_background": "light"
          }
        },
        {
          "output_type": "display_data",
          "data": {
            "image/png": "[encoded data removed]",
            "text/plain": [
              "<Figure size 432x288 with 1 Axes>"
            ]
          },
          "metadata": {
            "tags": [],
            "needs_background": "light"
          }
        },
        {
          "output_type": "display_data",
          "data": {
            "image/png": "[encoded data removed]",
            "text/plain": [
              "<Figure size 432x288 with 1 Axes>"
            ]
          },
          "metadata": {
            "tags": [],
            "needs_background": "light"
          }
        },
        {
          "output_type": "display_data",
          "data": {
            "image/png": "[encoded data removed]",
            "text/plain": [
              "<Figure size 432x288 with 1 Axes>"
            ]
          },
          "metadata": {
            "tags": [],
            "needs_background": "light"
          }
        },
        {
          "output_type": "display_data",
          "data": {
            "image/png": "[encoded data removed]",
            "text/plain": [
              "<Figure size 432x288 with 1 Axes>"
            ]
          },
          "metadata": {
            "tags": [],
            "needs_background": "light"
          }
        }
      ]
    },
    {
      "cell_type": "code",
      "metadata": {
        "id": "-ADyVYiXLc5Z"
      },
      "source": [
        "cat_cols = pd_df.columns[pd_df.columns.str.contains('Descrição|dig')].tolist()\r\n",
        "int_cols = pd_df.columns[pd_df.columns.str.contains('idade|pop_')].tolist()\r\n",
        "target_cols = pd_df.columns[pd_df.columns.str.contains('salário|valor')].tolist()\r\n",
        "key_cols = pd_df.columns[pd_df.columns.str.contains('faixapnad')].tolist()"
      ],
      "execution_count": 18,
      "outputs": []
    },
    {
      "cell_type": "code",
      "metadata": {
        "id": "mhvg1dJqqk3T"
      },
      "source": [
        "pd_df.loc[:,cat_cols+int_cols+key_cols+target_cols].to_csv('drive/MyDrive/publicdataml/sample_data_featured_v1.csv')"
      ],
      "execution_count": 19,
      "outputs": []
    },
    {
      "cell_type": "code",
      "metadata": {
        "id": "DvOpfXPeq_B7"
      },
      "source": [
        "import pandas as pd \r\n",
        "pd_df = pd.read_csv('drive/MyDrive/publicdataml/sample_data_featured_v1.csv',index_col=0)"
      ],
      "execution_count": 29,
      "outputs": []
    },
    {
      "cell_type": "code",
      "metadata": {
        "id": "RlmqpTggDdd2"
      },
      "source": [
        "cat_cols = pd_df.columns[pd_df.columns.str.contains('Descrição|dig')].tolist()\r\n",
        "int_cols = pd_df.columns[pd_df.columns.str.contains('idade|pop_')].tolist()\r\n",
        "target_cols = pd_df.columns[pd_df.columns.str.contains('salário')].tolist()\r\n",
        "key_cols = pd_df.columns[pd_df.columns.str.contains('faixapnad')].tolist()\r\n",
        "df = pd_df.loc[:,cat_cols+int_cols+key_cols+target_cols]\r\n"
      ],
      "execution_count": 30,
      "outputs": []
    },
    {
      "cell_type": "code",
      "metadata": {
        "id": "xdtTZQ94D21r"
      },
      "source": [
        "df.loc[:,cat_cols+int_cols+target_cols].to_csv('drive/MyDrive/publicdataml/sample_data_featured_v2.csv')"
      ],
      "execution_count": 31,
      "outputs": []
    },
    {
      "cell_type": "code",
      "metadata": {
        "id": "aJ5qNMMx1HRh"
      },
      "source": [
        "df.loc[:,cat_cols] = df.loc[:,cat_cols].applymap(lambda x : \"'\" + str(x) + \"'\")\r\n",
        "df.loc[:,cat_cols+int_cols+target_cols].to_csv('drive/MyDrive/publicdataml/sample_data_featured_v3.csv',index=False)"
      ],
      "execution_count": 32,
      "outputs": []
    },
    {
      "cell_type": "code",
      "metadata": {
        "colab": {
          "base_uri": "https://localhost:8080/",
          "height": 377
        },
        "id": "s1km_3y93TQy",
        "outputId": "8a51548e-373d-4c7c-a77b-f93edac1322a"
      },
      "source": [
        "df.loc[:,cat_cols+int_cols+target_cols].head()"
      ],
      "execution_count": 33,
      "outputs": [
        {
          "output_type": "execute_result",
          "data": {
            "text/html": [
              "<div>\n",
              "<style scoped>\n",
              "    .dataframe tbody tr th:only-of-type {\n",
              "        vertical-align: middle;\n",
              "    }\n",
              "\n",
              "    .dataframe tbody tr th {\n",
              "        vertical-align: top;\n",
              "    }\n",
              "\n",
              "    .dataframe thead th {\n",
              "        text-align: right;\n",
              "    }\n",
              "</style>\n",
              "<table border=\"1\" class=\"dataframe\">\n",
              "  <thead>\n",
              "    <tr style=\"text-align: right;\">\n",
              "      <th></th>\n",
              "      <th>Descrição_região</th>\n",
              "      <th>Descrição_uf</th>\n",
              "      <th>Descrição_município</th>\n",
              "      <th>Descrição_seção</th>\n",
              "      <th>Descrição_subclasse</th>\n",
              "      <th>Descrição_categoria</th>\n",
              "      <th>Descrição_cbo2002ocupação</th>\n",
              "      <th>Descrição_graudeinstrução</th>\n",
              "      <th>Descrição_sexo</th>\n",
              "      <th>Descrição_raçacor</th>\n",
              "      <th>Descrição_tamestabjan</th>\n",
              "      <th>subclasse_dig1</th>\n",
              "      <th>subclasse_dig2</th>\n",
              "      <th>subclasse_dig3</th>\n",
              "      <th>subclasse_dig4</th>\n",
              "      <th>subclasse_dig5</th>\n",
              "      <th>subclasse_dig6</th>\n",
              "      <th>cbo_dig1</th>\n",
              "      <th>cbo_dig2</th>\n",
              "      <th>cbo_dig3</th>\n",
              "      <th>cbo_dig4</th>\n",
              "      <th>cbo_dig5</th>\n",
              "      <th>município_dig3</th>\n",
              "      <th>município_dig4</th>\n",
              "      <th>município_dig5</th>\n",
              "      <th>idade</th>\n",
              "      <th>pop_estimada</th>\n",
              "      <th>salário</th>\n",
              "    </tr>\n",
              "  </thead>\n",
              "  <tbody>\n",
              "    <tr>\n",
              "      <th>0</th>\n",
              "      <td>'Norte'</td>\n",
              "      <td>'Rondônia'</td>\n",
              "      <td>'Ro-Espigao D Oeste'</td>\n",
              "      <td>'Indústrias de Transformação'</td>\n",
              "      <td>'Abate de Aves'</td>\n",
              "      <td>'Empregado - Aprendiz'</td>\n",
              "      <td>'Auxiliar de Escritorio, em Geral'</td>\n",
              "      <td>'Médio Completo'</td>\n",
              "      <td>'Mulher'</td>\n",
              "      <td>'Branca'</td>\n",
              "      <td>'De 500 a 999 vínculos'</td>\n",
              "      <td>'1'</td>\n",
              "      <td>'10'</td>\n",
              "      <td>'101'</td>\n",
              "      <td>'1012'</td>\n",
              "      <td>'10121'</td>\n",
              "      <td>'101210'</td>\n",
              "      <td>'4'</td>\n",
              "      <td>'41'</td>\n",
              "      <td>'411'</td>\n",
              "      <td>'4110'</td>\n",
              "      <td>'41100'</td>\n",
              "      <td>'110'</td>\n",
              "      <td>'1100'</td>\n",
              "      <td>'11000'</td>\n",
              "      <td>18</td>\n",
              "      <td>32695.0</td>\n",
              "      <td>750.0</td>\n",
              "    </tr>\n",
              "    <tr>\n",
              "      <th>1</th>\n",
              "      <td>'Norte'</td>\n",
              "      <td>'Rondônia'</td>\n",
              "      <td>'Ro-Espigao D Oeste'</td>\n",
              "      <td>'Indústrias de Transformação'</td>\n",
              "      <td>'Abate de Aves'</td>\n",
              "      <td>'Empregado - Geral, inclusive o empregado públ...</td>\n",
              "      <td>'Trabalhador da Avicultura de Corte'</td>\n",
              "      <td>'6ª a 9ª Fundamental'</td>\n",
              "      <td>'Homem'</td>\n",
              "      <td>'Parda'</td>\n",
              "      <td>'De 500 a 999 vínculos'</td>\n",
              "      <td>'1'</td>\n",
              "      <td>'10'</td>\n",
              "      <td>'101'</td>\n",
              "      <td>'1012'</td>\n",
              "      <td>'10121'</td>\n",
              "      <td>'101210'</td>\n",
              "      <td>'6'</td>\n",
              "      <td>'62'</td>\n",
              "      <td>'623'</td>\n",
              "      <td>'6233'</td>\n",
              "      <td>'62330'</td>\n",
              "      <td>'110'</td>\n",
              "      <td>'1100'</td>\n",
              "      <td>'11000'</td>\n",
              "      <td>20</td>\n",
              "      <td>32695.0</td>\n",
              "      <td>1316.0</td>\n",
              "    </tr>\n",
              "    <tr>\n",
              "      <th>2</th>\n",
              "      <td>'Norte'</td>\n",
              "      <td>'Rondônia'</td>\n",
              "      <td>'Ro-Espigao D Oeste'</td>\n",
              "      <td>'Indústrias de Transformação'</td>\n",
              "      <td>'Abate de Aves'</td>\n",
              "      <td>'Empregado - Geral, inclusive o empregado públ...</td>\n",
              "      <td>'Lavador de Roupas  a Maquina'</td>\n",
              "      <td>'6ª a 9ª Fundamental'</td>\n",
              "      <td>'Mulher'</td>\n",
              "      <td>'Parda'</td>\n",
              "      <td>'De 500 a 999 vínculos'</td>\n",
              "      <td>'1'</td>\n",
              "      <td>'10'</td>\n",
              "      <td>'101'</td>\n",
              "      <td>'1012'</td>\n",
              "      <td>'10121'</td>\n",
              "      <td>'101210'</td>\n",
              "      <td>'5'</td>\n",
              "      <td>'51'</td>\n",
              "      <td>'516'</td>\n",
              "      <td>'5163'</td>\n",
              "      <td>'51631'</td>\n",
              "      <td>'110'</td>\n",
              "      <td>'1100'</td>\n",
              "      <td>'11000'</td>\n",
              "      <td>29</td>\n",
              "      <td>32695.0</td>\n",
              "      <td>1104.0</td>\n",
              "    </tr>\n",
              "    <tr>\n",
              "      <th>3</th>\n",
              "      <td>'Norte'</td>\n",
              "      <td>'Rondônia'</td>\n",
              "      <td>'Ro-Espigao D Oeste'</td>\n",
              "      <td>'Indústrias de Transformação'</td>\n",
              "      <td>'Abate de Aves'</td>\n",
              "      <td>'Empregado - Aprendiz'</td>\n",
              "      <td>'Auxiliar de Escritorio, em Geral'</td>\n",
              "      <td>'Médio Completo'</td>\n",
              "      <td>'Mulher'</td>\n",
              "      <td>'Preta'</td>\n",
              "      <td>'De 500 a 999 vínculos'</td>\n",
              "      <td>'1'</td>\n",
              "      <td>'10'</td>\n",
              "      <td>'101'</td>\n",
              "      <td>'1012'</td>\n",
              "      <td>'10121'</td>\n",
              "      <td>'101210'</td>\n",
              "      <td>'4'</td>\n",
              "      <td>'41'</td>\n",
              "      <td>'411'</td>\n",
              "      <td>'4110'</td>\n",
              "      <td>'41100'</td>\n",
              "      <td>'110'</td>\n",
              "      <td>'1100'</td>\n",
              "      <td>'11000'</td>\n",
              "      <td>19</td>\n",
              "      <td>32695.0</td>\n",
              "      <td>750.0</td>\n",
              "    </tr>\n",
              "    <tr>\n",
              "      <th>4</th>\n",
              "      <td>'Norte'</td>\n",
              "      <td>'Rondônia'</td>\n",
              "      <td>'Ro-Espigao D Oeste'</td>\n",
              "      <td>'Comércio, Reparação de Veículos Automotores e...</td>\n",
              "      <td>'Comércio Varejista de Combustíveis para Veícu...</td>\n",
              "      <td>'Empregado - Geral, inclusive o empregado públ...</td>\n",
              "      <td>'Faxineiro (Desativado em 2010)'</td>\n",
              "      <td>'Médio Completo'</td>\n",
              "      <td>'Homem'</td>\n",
              "      <td>'Não informada'</td>\n",
              "      <td>'De 20 a 49 vínculos'</td>\n",
              "      <td>'4'</td>\n",
              "      <td>'47'</td>\n",
              "      <td>'473'</td>\n",
              "      <td>'4731'</td>\n",
              "      <td>'47318'</td>\n",
              "      <td>'473180'</td>\n",
              "      <td>'5'</td>\n",
              "      <td>'51'</td>\n",
              "      <td>'514'</td>\n",
              "      <td>'5143'</td>\n",
              "      <td>'51432'</td>\n",
              "      <td>'110'</td>\n",
              "      <td>'1100'</td>\n",
              "      <td>'11000'</td>\n",
              "      <td>19</td>\n",
              "      <td>32695.0</td>\n",
              "      <td>1045.0</td>\n",
              "    </tr>\n",
              "  </tbody>\n",
              "</table>\n",
              "</div>"
            ],
            "text/plain": [
              "  Descrição_região Descrição_uf  ... pop_estimada salário\n",
              "0          'Norte'   'Rondônia'  ...      32695.0   750.0\n",
              "1          'Norte'   'Rondônia'  ...      32695.0  1316.0\n",
              "2          'Norte'   'Rondônia'  ...      32695.0  1104.0\n",
              "3          'Norte'   'Rondônia'  ...      32695.0   750.0\n",
              "4          'Norte'   'Rondônia'  ...      32695.0  1045.0\n",
              "\n",
              "[5 rows x 28 columns]"
            ]
          },
          "metadata": {
            "tags": []
          },
          "execution_count": 33
        }
      ]
    }
  ]
}