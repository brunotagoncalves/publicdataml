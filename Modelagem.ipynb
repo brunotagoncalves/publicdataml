{
  "nbformat": 4,
  "nbformat_minor": 0,
  "metadata": {
    "colab": {
      "name": "Modelagem.ipynb",
      "provenance": [],
      "collapsed_sections": [],
      "authorship_tag": "ABX9TyPkFTUImUqxgo4HReDwkUve",
      "include_colab_link": true
    },
    "kernelspec": {
      "name": "python3",
      "display_name": "Python 3"
    }
  },
  "cells": [
    {
      "cell_type": "markdown",
      "metadata": {
        "id": "view-in-github",
        "colab_type": "text"
      },
      "source": [
        "<a href=\"https://colab.research.google.com/github/brunotagoncalves/publicdataml/blob/main/Modelagem.ipynb\" target=\"_parent\"><img src=\"https://colab.research.google.com/assets/colab-badge.svg\" alt=\"Open In Colab\"/></a>"
      ]
    },
    {
      "cell_type": "markdown",
      "metadata": {
        "id": "FIAjPv9FtT0a"
      },
      "source": [
        "## 3.\tModelagem"
      ]
    },
    {
      "cell_type": "code",
      "metadata": {
        "colab": {
          "base_uri": "https://localhost:8080/"
        },
        "id": "pNw3E6s_uJfl",
        "outputId": "132c3cbc-c53f-4eb1-b74b-6c01ee023e2e"
      },
      "source": [
        "!pip install catboost"
      ],
      "execution_count": 1,
      "outputs": [
        {
          "output_type": "stream",
          "text": [
            "Collecting catboost\n",
            "\u001b[?25l  Downloading https://files.pythonhosted.org/packages/20/37/bc4e0ddc30c07a96482abf1de7ed1ca54e59bba2026a33bca6d2ef286e5b/catboost-0.24.4-cp36-none-manylinux1_x86_64.whl (65.7MB)\n",
            "\u001b[K     |████████████████████████████████| 65.8MB 57kB/s \n",
            "\u001b[?25hRequirement already satisfied: plotly in /usr/local/lib/python3.6/dist-packages (from catboost) (4.4.1)\n",
            "Requirement already satisfied: numpy>=1.16.0 in /usr/local/lib/python3.6/dist-packages (from catboost) (1.19.5)\n",
            "Requirement already satisfied: six in /usr/local/lib/python3.6/dist-packages (from catboost) (1.15.0)\n",
            "Requirement already satisfied: scipy in /usr/local/lib/python3.6/dist-packages (from catboost) (1.4.1)\n",
            "Requirement already satisfied: pandas>=0.24.0 in /usr/local/lib/python3.6/dist-packages (from catboost) (1.1.5)\n",
            "Requirement already satisfied: matplotlib in /usr/local/lib/python3.6/dist-packages (from catboost) (3.2.2)\n",
            "Requirement already satisfied: graphviz in /usr/local/lib/python3.6/dist-packages (from catboost) (0.10.1)\n",
            "Requirement already satisfied: retrying>=1.3.3 in /usr/local/lib/python3.6/dist-packages (from plotly->catboost) (1.3.3)\n",
            "Requirement already satisfied: python-dateutil>=2.7.3 in /usr/local/lib/python3.6/dist-packages (from pandas>=0.24.0->catboost) (2.8.1)\n",
            "Requirement already satisfied: pytz>=2017.2 in /usr/local/lib/python3.6/dist-packages (from pandas>=0.24.0->catboost) (2018.9)\n",
            "Requirement already satisfied: pyparsing!=2.0.4,!=2.1.2,!=2.1.6,>=2.0.1 in /usr/local/lib/python3.6/dist-packages (from matplotlib->catboost) (2.4.7)\n",
            "Requirement already satisfied: cycler>=0.10 in /usr/local/lib/python3.6/dist-packages (from matplotlib->catboost) (0.10.0)\n",
            "Requirement already satisfied: kiwisolver>=1.0.1 in /usr/local/lib/python3.6/dist-packages (from matplotlib->catboost) (1.3.1)\n",
            "Installing collected packages: catboost\n",
            "Successfully installed catboost-0.24.4\n"
          ],
          "name": "stdout"
        }
      ]
    },
    {
      "cell_type": "code",
      "metadata": {
        "colab": {
          "base_uri": "https://localhost:8080/"
        },
        "id": "K8bhM7NysJB_",
        "outputId": "fccf322b-bdaf-4f7f-ceb1-81fa28c7c4d8"
      },
      "source": [
        "from google.colab import drive\r\n",
        "drive.mount('/content/drive')\r\n",
        "\r\n",
        "import pandas as pd\r\n",
        "import numpy as np "
      ],
      "execution_count": 3,
      "outputs": [
        {
          "output_type": "stream",
          "text": [
            "Drive already mounted at /content/drive; to attempt to forcibly remount, call drive.mount(\"/content/drive\", force_remount=True).\n"
          ],
          "name": "stdout"
        }
      ]
    },
    {
      "cell_type": "code",
      "metadata": {
        "id": "nDNot5I_uZnN"
      },
      "source": [
        "from catboost import Pool, CatBoostRegressor"
      ],
      "execution_count": 4,
      "outputs": []
    },
    {
      "cell_type": "code",
      "metadata": {
        "id": "BWXPxjhUueHW"
      },
      "source": [
        "pd_df = pd.read_csv('drive/MyDrive/publicdataml/sample_data_featured_v1.csv',dtype='object',index_col=0)\r\n",
        "cat_cols = pd_df.columns[pd_df.columns.str.contains('Descrição|dig')].tolist()\r\n",
        "int_cols = pd_df.columns[pd_df.columns.str.contains('idade|pop_')].tolist()\r\n",
        "target_cols = pd_df.columns[pd_df.columns.str.contains('salário|valor')].tolist()\r\n",
        "key_cols = pd_df.columns[pd_df.columns.str.contains('faixapnad')].tolist()"
      ],
      "execution_count": 5,
      "outputs": []
    },
    {
      "cell_type": "code",
      "metadata": {
        "id": "toWihxV1vBsT"
      },
      "source": [
        "for i in int_cols+target_cols:\r\n",
        "  pd_df.loc[:,i] = pd_df.loc[:,i].astype('float')\r\n"
      ],
      "execution_count": 7,
      "outputs": []
    },
    {
      "cell_type": "code",
      "metadata": {
        "id": "cEDuSIOM55Ul"
      },
      "source": [
        "pd_df = pd_df.loc[~pd_df.isnull().any(axis=1),:]"
      ],
      "execution_count": 8,
      "outputs": []
    },
    {
      "cell_type": "code",
      "metadata": {
        "id": "7zlGvoOgx6WM"
      },
      "source": [
        "from sklearn.model_selection import train_test_split\r\n",
        "X_train, X_test, y_train, y_test = train_test_split(pd_df.loc[:,cat_cols+int_cols+key_cols], pd_df.loc[:,'salário'],random_state=123,test_size=.25)"
      ],
      "execution_count": 9,
      "outputs": []
    },
    {
      "cell_type": "code",
      "metadata": {
        "id": "3C35mmv_0qkX"
      },
      "source": [
        "idx_cat = [X_train.columns.get_loc(i) for i in cat_cols]"
      ],
      "execution_count": 10,
      "outputs": []
    },
    {
      "cell_type": "code",
      "metadata": {
        "id": "PNzLC8ILtZsY"
      },
      "source": [
        "# initialize Pool\r\n",
        "train_pool = Pool(X_train[cat_cols+int_cols], \r\n",
        "                  y_train, \r\n",
        "                  cat_features=idx_cat)\r\n",
        "\r\n",
        "test_pool = Pool(X_test[cat_cols+int_cols], \r\n",
        "                 y_test, \r\n",
        "                 cat_features=idx_cat) \r\n"
      ],
      "execution_count": 11,
      "outputs": []
    },
    {
      "cell_type": "code",
      "metadata": {
        "id": "J4Quy67ww2vZ"
      },
      "source": [
        "# specify the training parameters \r\n",
        "model1 = CatBoostRegressor(loss_function='MAE',eval_metric='MAPE',iterations=3000)\r\n",
        "#train the model\r\n",
        "model1.fit(train_pool,eval_set=test_pool)\r\n",
        "model1.save_model('drive/MyDrive/publicdataml/ensemble_model_75.sav')"
      ],
      "execution_count": null,
      "outputs": []
    },
    {
      "cell_type": "code",
      "metadata": {
        "colab": {
          "base_uri": "https://localhost:8080/"
        },
        "id": "1-2LJABYtcoi",
        "outputId": "bc7b7d80-d96f-4b82-a063-7868f4bc576a"
      },
      "source": [
        "# make the prediction using the resulting model\r\n",
        "model1 = CatBoostRegressor()\r\n",
        "model1.load_model('drive/MyDrive/publicdataml/ensemble_model_75.sav')\r\n",
        "\r\n"
      ],
      "execution_count": 12,
      "outputs": [
        {
          "output_type": "execute_result",
          "data": {
            "text/plain": [
              "<catboost.core.CatBoostRegressor at 0x7f5b2d6ccfd0>"
            ]
          },
          "metadata": {
            "tags": []
          },
          "execution_count": 12
        }
      ]
    },
    {
      "cell_type": "code",
      "metadata": {
        "id": "SBesJNO_8eb-"
      },
      "source": [
        "preds = model1.predict(test_pool)\r\n",
        "#print(preds)"
      ],
      "execution_count": 13,
      "outputs": []
    },
    {
      "cell_type": "code",
      "metadata": {
        "id": "5CEcx3RL5I5n"
      },
      "source": [
        "pd_df_test = pd.concat([X_test,y_test],axis=1)\r\n",
        "\r\n",
        "pd_df_test.loc[:,'preds'] = preds"
      ],
      "execution_count": 14,
      "outputs": []
    },
    {
      "cell_type": "code",
      "metadata": {
        "id": "WfaMN0tJ6Kvn"
      },
      "source": [
        "import sklearn.metrics as metrics\r\n",
        "def regression_results(y_true, y_pred):\r\n",
        "\r\n",
        "    # Regression metrics\r\n",
        "    explained_variance=metrics.explained_variance_score(y_true, y_pred)\r\n",
        "    mean_absolute_error=metrics.mean_absolute_error(y_true, y_pred) \r\n",
        "    mse=metrics.mean_squared_error(y_true, y_pred) \r\n",
        "    mean_squared_log_error=metrics.mean_squared_log_error(y_true, y_pred)\r\n",
        "    median_absolute_error=metrics.median_absolute_error(y_true, y_pred)\r\n",
        "    mean_absolute_percentage_error=np.mean(np.abs(y_test-preds)/y_test)\r\n",
        "    r2=metrics.r2_score(y_true, y_pred)\r\n",
        "\r\n",
        "    print('explained_variance: ', round(explained_variance,4))    \r\n",
        "    print('mean_squared_log_error: ', round(mean_squared_log_error,4))\r\n",
        "    print('r2: ', round(r2,4))\r\n",
        "    print('MAE: ', round(mean_absolute_error,4))\r\n",
        "    print('MAPE: ', round(mean_absolute_percentage_error,4))\r\n",
        "    print('MSE: ', round(mse,4))\r\n",
        "    print('RMSE: ', round(np.sqrt(mse),4))"
      ],
      "execution_count": 15,
      "outputs": []
    },
    {
      "cell_type": "code",
      "metadata": {
        "colab": {
          "base_uri": "https://localhost:8080/"
        },
        "id": "NY-0u_tV8lo1",
        "outputId": "986e2fde-a322-4218-cd7d-6b1aaab35f5f"
      },
      "source": [
        "regression_results(y_test,preds)"
      ],
      "execution_count": 16,
      "outputs": [
        {
          "output_type": "stream",
          "text": [
            "explained_variance:  0.4688\n",
            "mean_squared_log_error:  0.155\n",
            "r2:  0.463\n",
            "MAE:  633.3031\n",
            "MAPE:  0.2754\n",
            "MSE:  4078608.3396\n",
            "RMSE:  2019.5565\n"
          ],
          "name": "stdout"
        }
      ]
    },
    {
      "cell_type": "code",
      "metadata": {
        "id": "mPE4JfGu6_yy"
      },
      "source": [
        "pd_df_test.loc[:,'AE'] = np.abs(pd_df_test.loc[:,'salário'] - pd_df_test.loc[:,'preds'])\r\n",
        "pd_df_test.loc[:,'APE'] = pd_df_test.loc[:,'AE']/pd_df_test.loc[:,'salário']"
      ],
      "execution_count": 17,
      "outputs": []
    },
    {
      "cell_type": "code",
      "metadata": {
        "colab": {
          "base_uri": "https://localhost:8080/",
          "height": 111
        },
        "id": "0yCkR-dd-CxJ",
        "outputId": "af0d4ae0-5248-4cca-92f3-ca6308bc985d"
      },
      "source": [
        "pd_df_test.loc[:,['salário','preds']].corr('pearson')**2"
      ],
      "execution_count": 18,
      "outputs": [
        {
          "output_type": "execute_result",
          "data": {
            "text/html": [
              "<div>\n",
              "<style scoped>\n",
              "    .dataframe tbody tr th:only-of-type {\n",
              "        vertical-align: middle;\n",
              "    }\n",
              "\n",
              "    .dataframe tbody tr th {\n",
              "        vertical-align: top;\n",
              "    }\n",
              "\n",
              "    .dataframe thead th {\n",
              "        text-align: right;\n",
              "    }\n",
              "</style>\n",
              "<table border=\"1\" class=\"dataframe\">\n",
              "  <thead>\n",
              "    <tr style=\"text-align: right;\">\n",
              "      <th></th>\n",
              "      <th>salário</th>\n",
              "      <th>preds</th>\n",
              "    </tr>\n",
              "  </thead>\n",
              "  <tbody>\n",
              "    <tr>\n",
              "      <th>salário</th>\n",
              "      <td>1.00000</td>\n",
              "      <td>0.48431</td>\n",
              "    </tr>\n",
              "    <tr>\n",
              "      <th>preds</th>\n",
              "      <td>0.48431</td>\n",
              "      <td>1.00000</td>\n",
              "    </tr>\n",
              "  </tbody>\n",
              "</table>\n",
              "</div>"
            ],
            "text/plain": [
              "         salário    preds\n",
              "salário  1.00000  0.48431\n",
              "preds    0.48431  1.00000"
            ]
          },
          "metadata": {
            "tags": []
          },
          "execution_count": 18
        }
      ]
    },
    {
      "cell_type": "code",
      "metadata": {
        "colab": {
          "base_uri": "https://localhost:8080/",
          "height": 235
        },
        "id": "vH7Ey0KX_mSe",
        "outputId": "6a8a22d1-4880-4bde-a0bb-75a2fffbf85e"
      },
      "source": [
        "pd_df_test.groupby('faixapnad')['APE'].describe()"
      ],
      "execution_count": 19,
      "outputs": [
        {
          "output_type": "execute_result",
          "data": {
            "text/html": [
              "<div>\n",
              "<style scoped>\n",
              "    .dataframe tbody tr th:only-of-type {\n",
              "        vertical-align: middle;\n",
              "    }\n",
              "\n",
              "    .dataframe tbody tr th {\n",
              "        vertical-align: top;\n",
              "    }\n",
              "\n",
              "    .dataframe thead th {\n",
              "        text-align: right;\n",
              "    }\n",
              "</style>\n",
              "<table border=\"1\" class=\"dataframe\">\n",
              "  <thead>\n",
              "    <tr style=\"text-align: right;\">\n",
              "      <th></th>\n",
              "      <th>count</th>\n",
              "      <th>mean</th>\n",
              "      <th>std</th>\n",
              "      <th>min</th>\n",
              "      <th>25%</th>\n",
              "      <th>50%</th>\n",
              "      <th>75%</th>\n",
              "      <th>max</th>\n",
              "    </tr>\n",
              "    <tr>\n",
              "      <th>faixapnad</th>\n",
              "      <th></th>\n",
              "      <th></th>\n",
              "      <th></th>\n",
              "      <th></th>\n",
              "      <th></th>\n",
              "      <th></th>\n",
              "      <th></th>\n",
              "      <th></th>\n",
              "    </tr>\n",
              "  </thead>\n",
              "  <tbody>\n",
              "    <tr>\n",
              "      <th>1º Quintil PNAD</th>\n",
              "      <td>12678.0</td>\n",
              "      <td>0.482780</td>\n",
              "      <td>0.833317</td>\n",
              "      <td>0.000004</td>\n",
              "      <td>0.035628</td>\n",
              "      <td>0.122354</td>\n",
              "      <td>0.736241</td>\n",
              "      <td>17.346139</td>\n",
              "    </tr>\n",
              "    <tr>\n",
              "      <th>2º Quintil PNAD</th>\n",
              "      <td>12295.0</td>\n",
              "      <td>0.189937</td>\n",
              "      <td>0.419642</td>\n",
              "      <td>0.000003</td>\n",
              "      <td>0.016700</td>\n",
              "      <td>0.056153</td>\n",
              "      <td>0.208745</td>\n",
              "      <td>7.422713</td>\n",
              "    </tr>\n",
              "    <tr>\n",
              "      <th>3º Quintil PNAD</th>\n",
              "      <td>12461.0</td>\n",
              "      <td>0.159168</td>\n",
              "      <td>0.281458</td>\n",
              "      <td>0.000005</td>\n",
              "      <td>0.039601</td>\n",
              "      <td>0.087915</td>\n",
              "      <td>0.175868</td>\n",
              "      <td>5.047217</td>\n",
              "    </tr>\n",
              "    <tr>\n",
              "      <th>4º Quintil PNAD</th>\n",
              "      <td>12627.0</td>\n",
              "      <td>0.222545</td>\n",
              "      <td>0.309344</td>\n",
              "      <td>0.000049</td>\n",
              "      <td>0.059138</td>\n",
              "      <td>0.141948</td>\n",
              "      <td>0.275406</td>\n",
              "      <td>4.564064</td>\n",
              "    </tr>\n",
              "    <tr>\n",
              "      <th>5º Quintil PNAD</th>\n",
              "      <td>12512.0</td>\n",
              "      <td>0.318467</td>\n",
              "      <td>0.241230</td>\n",
              "      <td>0.000009</td>\n",
              "      <td>0.127568</td>\n",
              "      <td>0.280030</td>\n",
              "      <td>0.461235</td>\n",
              "      <td>2.359266</td>\n",
              "    </tr>\n",
              "  </tbody>\n",
              "</table>\n",
              "</div>"
            ],
            "text/plain": [
              "                   count      mean       std  ...       50%       75%        max\n",
              "faixapnad                                     ...                               \n",
              "1º Quintil PNAD  12678.0  0.482780  0.833317  ...  0.122354  0.736241  17.346139\n",
              "2º Quintil PNAD  12295.0  0.189937  0.419642  ...  0.056153  0.208745   7.422713\n",
              "3º Quintil PNAD  12461.0  0.159168  0.281458  ...  0.087915  0.175868   5.047217\n",
              "4º Quintil PNAD  12627.0  0.222545  0.309344  ...  0.141948  0.275406   4.564064\n",
              "5º Quintil PNAD  12512.0  0.318467  0.241230  ...  0.280030  0.461235   2.359266\n",
              "\n",
              "[5 rows x 8 columns]"
            ]
          },
          "metadata": {
            "tags": []
          },
          "execution_count": 19
        }
      ]
    },
    {
      "cell_type": "code",
      "metadata": {
        "colab": {
          "base_uri": "https://localhost:8080/",
          "height": 235
        },
        "id": "CuT1nKKpANSc",
        "outputId": "25a1a828-3134-4775-dd0f-682355e1a0e5"
      },
      "source": [
        "pd_df_test.groupby('faixapnad')['AE'].describe()"
      ],
      "execution_count": 20,
      "outputs": [
        {
          "output_type": "execute_result",
          "data": {
            "text/html": [
              "<div>\n",
              "<style scoped>\n",
              "    .dataframe tbody tr th:only-of-type {\n",
              "        vertical-align: middle;\n",
              "    }\n",
              "\n",
              "    .dataframe tbody tr th {\n",
              "        vertical-align: top;\n",
              "    }\n",
              "\n",
              "    .dataframe thead th {\n",
              "        text-align: right;\n",
              "    }\n",
              "</style>\n",
              "<table border=\"1\" class=\"dataframe\">\n",
              "  <thead>\n",
              "    <tr style=\"text-align: right;\">\n",
              "      <th></th>\n",
              "      <th>count</th>\n",
              "      <th>mean</th>\n",
              "      <th>std</th>\n",
              "      <th>min</th>\n",
              "      <th>25%</th>\n",
              "      <th>50%</th>\n",
              "      <th>75%</th>\n",
              "      <th>max</th>\n",
              "    </tr>\n",
              "    <tr>\n",
              "      <th>faixapnad</th>\n",
              "      <th></th>\n",
              "      <th></th>\n",
              "      <th></th>\n",
              "      <th></th>\n",
              "      <th></th>\n",
              "      <th></th>\n",
              "      <th></th>\n",
              "      <th></th>\n",
              "    </tr>\n",
              "  </thead>\n",
              "  <tbody>\n",
              "    <tr>\n",
              "      <th>1º Quintil PNAD</th>\n",
              "      <td>12678.0</td>\n",
              "      <td>254.057604</td>\n",
              "      <td>427.207175</td>\n",
              "      <td>0.001892</td>\n",
              "      <td>19.037641</td>\n",
              "      <td>66.772861</td>\n",
              "      <td>409.822525</td>\n",
              "      <td>10407.683659</td>\n",
              "    </tr>\n",
              "    <tr>\n",
              "      <th>2º Quintil PNAD</th>\n",
              "      <td>12295.0</td>\n",
              "      <td>171.494777</td>\n",
              "      <td>365.919241</td>\n",
              "      <td>0.003278</td>\n",
              "      <td>17.104410</td>\n",
              "      <td>55.647996</td>\n",
              "      <td>192.518175</td>\n",
              "      <td>5901.748004</td>\n",
              "    </tr>\n",
              "    <tr>\n",
              "      <th>3º Quintil PNAD</th>\n",
              "      <td>12461.0</td>\n",
              "      <td>203.043639</td>\n",
              "      <td>359.777451</td>\n",
              "      <td>0.006716</td>\n",
              "      <td>48.952833</td>\n",
              "      <td>109.889616</td>\n",
              "      <td>227.032308</td>\n",
              "      <td>5952.326357</td>\n",
              "    </tr>\n",
              "    <tr>\n",
              "      <th>4º Quintil PNAD</th>\n",
              "      <td>12627.0</td>\n",
              "      <td>424.116867</td>\n",
              "      <td>593.098231</td>\n",
              "      <td>0.073862</td>\n",
              "      <td>104.997217</td>\n",
              "      <td>257.721191</td>\n",
              "      <td>518.526362</td>\n",
              "      <td>8334.814371</td>\n",
              "    </tr>\n",
              "    <tr>\n",
              "      <th>5º Quintil PNAD</th>\n",
              "      <td>12512.0</td>\n",
              "      <td>2110.993589</td>\n",
              "      <td>3850.315852</td>\n",
              "      <td>0.035512</td>\n",
              "      <td>501.969948</td>\n",
              "      <td>1127.227178</td>\n",
              "      <td>2199.353594</td>\n",
              "      <td>48291.209622</td>\n",
              "    </tr>\n",
              "  </tbody>\n",
              "</table>\n",
              "</div>"
            ],
            "text/plain": [
              "                   count         mean  ...          75%           max\n",
              "faixapnad                              ...                           \n",
              "1º Quintil PNAD  12678.0   254.057604  ...   409.822525  10407.683659\n",
              "2º Quintil PNAD  12295.0   171.494777  ...   192.518175   5901.748004\n",
              "3º Quintil PNAD  12461.0   203.043639  ...   227.032308   5952.326357\n",
              "4º Quintil PNAD  12627.0   424.116867  ...   518.526362   8334.814371\n",
              "5º Quintil PNAD  12512.0  2110.993589  ...  2199.353594  48291.209622\n",
              "\n",
              "[5 rows x 8 columns]"
            ]
          },
          "metadata": {
            "tags": []
          },
          "execution_count": 20
        }
      ]
    },
    {
      "cell_type": "code",
      "metadata": {
        "colab": {
          "base_uri": "https://localhost:8080/",
          "height": 417
        },
        "id": "CwHBMAFCAtPG",
        "outputId": "deed1977-a9b0-4f89-e8e8-d70dd32c056f"
      },
      "source": [
        "pd.DataFrame(model1.feature_importances_,index=cat_cols+int_cols).sort_values(0).plot.bar()"
      ],
      "execution_count": 137,
      "outputs": [
        {
          "output_type": "execute_result",
          "data": {
            "text/plain": [
              "<matplotlib.axes._subplots.AxesSubplot at 0x7fe609a55358>"
            ]
          },
          "metadata": {
            "tags": []
          },
          "execution_count": 137
        },
        {
          "output_type": "display_data",
          "data": {
            "image/png": "[encoded data removed]",
            "text/plain": [
              "<Figure size 432x288 with 1 Axes>"
            ]
          },
          "metadata": {
            "tags": [],
            "needs_background": "light"
          }
        }
      ]
    },
    {
      "cell_type": "code",
      "metadata": {
        "id": "b3Am3VUQkuuC"
      },
      "source": [
        "import pandas as pd\r\n",
        "#imp = pd.DataFrame(model1.feature_importances_,index=cat_cols+int_cols).sort_values(0).cumsum()[0]\r\n",
        "#best_cols= imp[imp>5].index.tolist()\r\n",
        "idx_cat = [X_train[cat_cols+int_cols].columns.get_loc(i) for i in cat_cols]"
      ],
      "execution_count": 35,
      "outputs": []
    },
    {
      "cell_type": "code",
      "metadata": {
        "id": "38TQ92_l4Ach"
      },
      "source": [
        "# initialize Pool\r\n",
        "train_pool = Pool(X_train[cat_cols+int_cols], \r\n",
        "                  y_train, \r\n",
        "                  cat_features=idx_cat)\r\n",
        "\r\n",
        "test_pool = Pool(X_test[cat_cols+int_cols], \r\n",
        "                 y_test, \r\n",
        "                 cat_features=idx_cat) \r\n"
      ],
      "execution_count": 36,
      "outputs": []
    },
    {
      "cell_type": "code",
      "metadata": {
        "id": "lmyK1ULRBMhq"
      },
      "source": [
        "from sklearn.preprocessing import OneHotEncoder\r\n"
      ],
      "execution_count": 37,
      "outputs": []
    },
    {
      "cell_type": "code",
      "metadata": {
        "id": "u0lDB0pdDHTm"
      },
      "source": [
        "OHE = OneHotEncoder(handle_unknown='ignore')"
      ],
      "execution_count": 38,
      "outputs": []
    },
    {
      "cell_type": "code",
      "metadata": {
        "id": "sxj-Zw5ADkrQ"
      },
      "source": [
        "from sklearn.compose import ColumnTransformer\r\n",
        "from sklearn.impute import SimpleImputer\r\n",
        "from sklearn.pipeline import Pipeline"
      ],
      "execution_count": 39,
      "outputs": []
    },
    {
      "cell_type": "code",
      "metadata": {
        "id": "nVHVTz7wFkEG"
      },
      "source": [
        "ct  = ColumnTransformer([('pp',Pipeline([\r\n",
        "        (\"OHE\", OHE),('imp',SimpleImputer(strategy='most_frequent'))]),cat_cols),('imp',SimpleImputer(strategy='most_frequent'),int_cols)])"
      ],
      "execution_count": 40,
      "outputs": []
    },
    {
      "cell_type": "code",
      "metadata": {
        "id": "zUiZj2zvFkij"
      },
      "source": [
        "X_train_catcols = ct.fit_transform(X_train)\r\n",
        "X_test_catcols = ct.transform(X_test)"
      ],
      "execution_count": 41,
      "outputs": []
    },
    {
      "cell_type": "code",
      "metadata": {
        "colab": {
          "base_uri": "https://localhost:8080/"
        },
        "id": "6x1XDr4nGKeO",
        "outputId": "91acfce7-6f82-4d1b-e3b2-0db176fd6b0f"
      },
      "source": [
        "from sklearn.neural_network import MLPRegressor\r\n",
        "\r\n",
        "regr = MLPRegressor(random_state=1,solver='adam', verbose=True).fit(X_train_catcols, y_train)\r\n"
      ],
      "execution_count": null,
      "outputs": [
        {
          "output_type": "stream",
          "text": [
            "Iteration 1, loss = 8072213.90598921\n",
            "Iteration 2, loss = 5324559.91893640\n",
            "Iteration 3, loss = 5691352.89652525\n"
          ],
          "name": "stdout"
        }
      ]
    },
    {
      "cell_type": "code",
      "metadata": {
        "id": "K3zyo9aZlj27"
      },
      "source": [
        "\r\n",
        "from joblib import dump, load\r\n",
        "dump(regr,'drive/MyDrive/publicdataml/mlp_model.joblib')\r\n",
        "regr = load('drive/MyDrive/publicdataml/mlp_model.joblib')\r\n",
        "\r\n"
      ],
      "execution_count": null,
      "outputs": []
    },
    {
      "cell_type": "code",
      "metadata": {
        "id": "RkPIMNosGMsA"
      },
      "source": [
        "preds = regr.predict(X_test_catcols)"
      ],
      "execution_count": null,
      "outputs": []
    },
    {
      "cell_type": "code",
      "metadata": {
        "id": "liCaWY6zGlO9"
      },
      "source": [
        "pd_df_test.loc[:,'preds_mlp'] = preds"
      ],
      "execution_count": null,
      "outputs": []
    },
    {
      "cell_type": "code",
      "metadata": {
        "id": "7yPa0TXAGnnm"
      },
      "source": [
        "pd_df_test.loc[:,['salário','preds','preds_mlp']].corr()"
      ],
      "execution_count": null,
      "outputs": []
    },
    {
      "cell_type": "code",
      "metadata": {
        "id": "JTSPBemqLWwf"
      },
      "source": [
        "regression_results(y_test,preds)"
      ],
      "execution_count": null,
      "outputs": []
    },
    {
      "cell_type": "code",
      "metadata": {
        "id": "nHzvmd4J3mrC"
      },
      "source": [
        "pd_df_test.loc[:,'AE_MLP'] = np.abs(pd_df_test.loc[:,'salário'] - pd_df_test.loc[:,'preds_mlp'])\r\n",
        "pd_df_test.loc[:,'APE_MLP'] = pd_df_test.loc[:,'AE_MLP']/pd_df_test.loc[:,'salário']"
      ],
      "execution_count": null,
      "outputs": []
    },
    {
      "cell_type": "code",
      "metadata": {
        "id": "ZmcsCzdJiYAX"
      },
      "source": [
        "pd_df_test.groupby('faixapnad')['APE_MLP'].describe()"
      ],
      "execution_count": null,
      "outputs": []
    },
    {
      "cell_type": "code",
      "metadata": {
        "id": "vko05M-hibo0"
      },
      "source": [
        "pd_df_test.groupby('faixapnad')['AE_MLP'].describe()"
      ],
      "execution_count": null,
      "outputs": []
    },
    {
      "cell_type": "code",
      "metadata": {
        "id": "U_gnxc3uih2u"
      },
      "source": [
        "pd_df_test.to_csv('drive/MyDrive/publicdataml/test_results.csv')"
      ],
      "execution_count": 46,
      "outputs": []
    },
    {
      "cell_type": "markdown",
      "metadata": {
        "id": "YBX5pZLUZgi9"
      },
      "source": [
        "|Exemplos:| Sr. 98 | Monica | Ana |\r\n",
        "|---|---|---|---|\r\n",
        "|**Idade:**| 26  | 54  | 45  |\r\n",
        "|**Munícipio:**|  Porto Alegre | São Paulo  | Fortaleza  |\r\n",
        "|**Profissão:**| Humorista / Radialista  | Enfermeira | Diretora Comercial  |\r\n",
        "|**Porte da Empresa:**| Mais de 1000 colaboradores  | Mais de 1000 colaboradores  | Entre 20 e 50 Colaboradores |\r\n",
        "|**Grau de Instrução** | Ensino Médio Completo | Ensino Superior Completo | Pós-Graduação Completa\r\n",
        "\r\n"
      ]
    },
    {
      "cell_type": "code",
      "metadata": {
        "colab": {
          "base_uri": "https://localhost:8080/"
        },
        "id": "AaVfqopMXy2O",
        "outputId": "45343d72-a665-488f-f32b-2c210604aea2"
      },
      "source": [
        "(model1.predict([\r\n",
        "               'Sul'              \r\n",
        ",'Rio Grande do Sul'\r\n",
        ",'Rs-Porto Alegre'\r\n",
        ",'Informação e Comunicação '\r\n",
        ",'Atividades de Rádio'\r\n",
        ",'Empregado - Geral, inclusive o empregado público da administração direta ou indireta contratado pela CLT'\r\n",
        ",'Comentarista de Radio e Televisao'\r\n",
        ",'Médio Completo'\r\n",
        ",'Homem'\r\n",
        ",'Preta'\r\n",
        ",'1000 ou mais vínculos'\r\n",
        ",'6'\r\n",
        ",'60'\r\n",
        ",'601'\r\n",
        ",'6010'\r\n",
        ",'60101'\r\n",
        ",'601010'\r\n",
        ",'2'\r\n",
        ",'26'\r\n",
        ",'261'\r\n",
        ",'2617'\r\n",
        ",'26171'\r\n",
        ",'431'\r\n",
        ",'4314'\r\n",
        ",'43149'\r\n",
        ",26\r\n",
        ",1488252.0\r\n",
        "])*3).round(-1)"
      ],
      "execution_count": 17,
      "outputs": [
        {
          "output_type": "execute_result",
          "data": {
            "text/plain": [
              "6680.0"
            ]
          },
          "metadata": {
            "tags": []
          },
          "execution_count": 17
        }
      ]
    },
    {
      "cell_type": "code",
      "metadata": {
        "colab": {
          "base_uri": "https://localhost:8080/"
        },
        "id": "HT3SXfYnB7lZ",
        "outputId": "3c7f6ac5-1220-427a-d633-913f40f59540"
      },
      "source": [
        "(model1.predict(['Sudeste'\r\n",
        ",'São Paulo'\r\n",
        ",'Sp-Sao Paulo'\r\n",
        ",'Saúde Humana e Serviços Sociais'\r\n",
        ",'Atividades de Atendimento Hospitalar, Exceto Pronto-Socorro e Unidades para Atendimento a Urgências'\r\n",
        ",'Empregado - Geral, inclusive o empregado público da administração direta ou indireta contratado pela CLT'\r\n",
        ",'Enfermeiro de Terapia Intensiva'\r\n",
        ",'Superior Completo'\r\n",
        ",'Mulher'\r\n",
        ",'Preta'\r\n",
        ",'1000 ou mais vínculos'\r\n",
        ",'8'\r\n",
        ",'86'\r\n",
        ",'861'\r\n",
        ",'8610'\r\n",
        ",'86101'\r\n",
        ",'861010'\r\n",
        ",'2'\r\n",
        ",'22'\r\n",
        ",'223'\r\n",
        ",'2235'\r\n",
        ",'22352'\r\n",
        ",'355'\r\n",
        ",'3550'\r\n",
        ",'35503'\r\n",
        ",54\r\n",
        ",12325200\r\n",
        "])).round(-1)"
      ],
      "execution_count": 18,
      "outputs": [
        {
          "output_type": "execute_result",
          "data": {
            "text/plain": [
              "5260.0"
            ]
          },
          "metadata": {
            "tags": []
          },
          "execution_count": 18
        }
      ]
    },
    {
      "cell_type": "code",
      "metadata": {
        "colab": {
          "base_uri": "https://localhost:8080/"
        },
        "id": "FHJkSQXBCGCT",
        "outputId": "ec6d7ba0-e0d1-4607-ea33-b8f932cca41a"
      },
      "source": [
        "(model1.predict([ 'Nordeste'\r\n",
        ",'Ceará'\r\n",
        ",'Ce-Fortaleza'\r\n",
        ",'Comércio, Reparação de Veículos Automotores e Motocicletas'\r\n",
        ",'Comércio Varejista de Móveis'\r\n",
        ",'Empregado - Geral, inclusive o empregado público da administração direta ou indireta contratado pela CLT'\r\n",
        ",'Diretor Comercial'\r\n",
        ",'Pós-Graduação completa'\r\n",
        ",'Mulher'\r\n",
        ",'Parda'\r\n",
        ",'De 20 a 49 vínculos'\r\n",
        ",'4'\r\n",
        ",'47'\r\n",
        ",'475'\r\n",
        ",'4754'\r\n",
        ",'47547'\r\n",
        ",'475470'\r\n",
        ",'1'\r\n",
        ",'12'\r\n",
        ",'123'\r\n",
        ",'1233'\r\n",
        ",'12330'\r\n",
        ",'230'\r\n",
        ",'2304'\r\n",
        ",'23044'\r\n",
        ",45\r\n",
        ",2686610\r\n",
        "\r\n",
        "])*3).round(-1)"
      ],
      "execution_count": 20,
      "outputs": [
        {
          "output_type": "execute_result",
          "data": {
            "text/plain": [
              "19370.0"
            ]
          },
          "metadata": {
            "tags": []
          },
          "execution_count": 20
        }
      ]
    },
    {
      "cell_type": "code",
      "metadata": {
        "id": "YvI7sJPp4CSr"
      },
      "source": [
        "pd_df.loc[:,'preds'] = model1.predict(pd_df.loc[:,cat_cols+int_cols])"
      ],
      "execution_count": 21,
      "outputs": []
    },
    {
      "cell_type": "code",
      "metadata": {
        "colab": {
          "base_uri": "https://localhost:8080/",
          "height": 1000
        },
        "id": "JZ8HvBdpAUTj",
        "outputId": "a0e43a2e-0467-49f5-9343-50010f183eaa"
      },
      "source": [
        "pd_df.sort_values('preds',ascending=False).head(20)"
      ],
      "execution_count": 22,
      "outputs": [
        {
          "output_type": "execute_result",
          "data": {
            "text/html": [
              "<div>\n",
              "<style scoped>\n",
              "    .dataframe tbody tr th:only-of-type {\n",
              "        vertical-align: middle;\n",
              "    }\n",
              "\n",
              "    .dataframe tbody tr th {\n",
              "        vertical-align: top;\n",
              "    }\n",
              "\n",
              "    .dataframe thead th {\n",
              "        text-align: right;\n",
              "    }\n",
              "</style>\n",
              "<table border=\"1\" class=\"dataframe\">\n",
              "  <thead>\n",
              "    <tr style=\"text-align: right;\">\n",
              "      <th></th>\n",
              "      <th>Descrição_região</th>\n",
              "      <th>Descrição_uf</th>\n",
              "      <th>Descrição_município</th>\n",
              "      <th>Descrição_seção</th>\n",
              "      <th>Descrição_subclasse</th>\n",
              "      <th>Descrição_categoria</th>\n",
              "      <th>Descrição_cbo2002ocupação</th>\n",
              "      <th>Descrição_graudeinstrução</th>\n",
              "      <th>Descrição_sexo</th>\n",
              "      <th>Descrição_raçacor</th>\n",
              "      <th>Descrição_tamestabjan</th>\n",
              "      <th>subclasse_dig1</th>\n",
              "      <th>subclasse_dig2</th>\n",
              "      <th>subclasse_dig3</th>\n",
              "      <th>subclasse_dig4</th>\n",
              "      <th>subclasse_dig5</th>\n",
              "      <th>subclasse_dig6</th>\n",
              "      <th>cbo_dig1</th>\n",
              "      <th>cbo_dig2</th>\n",
              "      <th>cbo_dig3</th>\n",
              "      <th>cbo_dig4</th>\n",
              "      <th>cbo_dig5</th>\n",
              "      <th>município_dig3</th>\n",
              "      <th>município_dig4</th>\n",
              "      <th>município_dig5</th>\n",
              "      <th>idade</th>\n",
              "      <th>pop_estimada</th>\n",
              "      <th>faixapnad</th>\n",
              "      <th>salário</th>\n",
              "      <th>valorhora</th>\n",
              "      <th>preds</th>\n",
              "    </tr>\n",
              "  </thead>\n",
              "  <tbody>\n",
              "    <tr>\n",
              "      <th>16383</th>\n",
              "      <td>Sudeste</td>\n",
              "      <td>São Paulo</td>\n",
              "      <td>Sp-Sao Paulo</td>\n",
              "      <td>Atividades Financeiras, de Seguros e Serviços ...</td>\n",
              "      <td>Bancos Múltiplos, com Carteira Comercial</td>\n",
              "      <td>Empregado - Geral, inclusive o empregado públi...</td>\n",
              "      <td>Diretor Administrativo e Financeiro</td>\n",
              "      <td>Mestrado</td>\n",
              "      <td>Homem</td>\n",
              "      <td>Branca</td>\n",
              "      <td>1000 ou mais vínculos</td>\n",
              "      <td>6</td>\n",
              "      <td>64</td>\n",
              "      <td>642</td>\n",
              "      <td>6422</td>\n",
              "      <td>64221</td>\n",
              "      <td>642210</td>\n",
              "      <td>1</td>\n",
              "      <td>12</td>\n",
              "      <td>123</td>\n",
              "      <td>1231</td>\n",
              "      <td>12311</td>\n",
              "      <td>355</td>\n",
              "      <td>3550</td>\n",
              "      <td>35503</td>\n",
              "      <td>50.0</td>\n",
              "      <td>12325232.0</td>\n",
              "      <td>5º Quintil PNAD</td>\n",
              "      <td>40646.18</td>\n",
              "      <td>1016.154500</td>\n",
              "      <td>17306.630249</td>\n",
              "    </tr>\n",
              "    <tr>\n",
              "      <th>43802</th>\n",
              "      <td>Sudeste</td>\n",
              "      <td>Rio de Janeiro</td>\n",
              "      <td>Rj-Rio de Janeiro</td>\n",
              "      <td>Atividades Financeiras, de Seguros e Serviços ...</td>\n",
              "      <td>Planos de Saúde</td>\n",
              "      <td>Empregado - Geral, inclusive o empregado públi...</td>\n",
              "      <td>Diretor de Servicos de Saude</td>\n",
              "      <td>Pós-Graduação completa</td>\n",
              "      <td>Homem</td>\n",
              "      <td>Branca</td>\n",
              "      <td>De 500 a 999 vínculos</td>\n",
              "      <td>6</td>\n",
              "      <td>65</td>\n",
              "      <td>655</td>\n",
              "      <td>6550</td>\n",
              "      <td>65502</td>\n",
              "      <td>655020</td>\n",
              "      <td>1</td>\n",
              "      <td>13</td>\n",
              "      <td>131</td>\n",
              "      <td>1312</td>\n",
              "      <td>13120</td>\n",
              "      <td>330</td>\n",
              "      <td>3304</td>\n",
              "      <td>33045</td>\n",
              "      <td>65.0</td>\n",
              "      <td>6747815.0</td>\n",
              "      <td>5º Quintil PNAD</td>\n",
              "      <td>31404.00</td>\n",
              "      <td>897.257143</td>\n",
              "      <td>16365.099266</td>\n",
              "    </tr>\n",
              "    <tr>\n",
              "      <th>3596</th>\n",
              "      <td>Sudeste</td>\n",
              "      <td>São Paulo</td>\n",
              "      <td>Sp-Sao Paulo</td>\n",
              "      <td>Atividades Financeiras, de Seguros e Serviços ...</td>\n",
              "      <td>Seguros de Vida</td>\n",
              "      <td>Empregado - Geral, inclusive o empregado públi...</td>\n",
              "      <td>Diretor de Produtos Bancarios</td>\n",
              "      <td>Pós-Graduação completa</td>\n",
              "      <td>Homem</td>\n",
              "      <td>Amarela</td>\n",
              "      <td>De 100 a 249 vínculos</td>\n",
              "      <td>6</td>\n",
              "      <td>65</td>\n",
              "      <td>651</td>\n",
              "      <td>6511</td>\n",
              "      <td>65111</td>\n",
              "      <td>651110</td>\n",
              "      <td>1</td>\n",
              "      <td>12</td>\n",
              "      <td>122</td>\n",
              "      <td>1227</td>\n",
              "      <td>12271</td>\n",
              "      <td>355</td>\n",
              "      <td>3550</td>\n",
              "      <td>35503</td>\n",
              "      <td>46.0</td>\n",
              "      <td>12325232.0</td>\n",
              "      <td>5º Quintil PNAD</td>\n",
              "      <td>25000.00</td>\n",
              "      <td>568.181818</td>\n",
              "      <td>15815.841327</td>\n",
              "    </tr>\n",
              "    <tr>\n",
              "      <th>7647</th>\n",
              "      <td>Sudeste</td>\n",
              "      <td>São Paulo</td>\n",
              "      <td>Sp-Sao Paulo</td>\n",
              "      <td>Atividades Financeiras, de Seguros e Serviços ...</td>\n",
              "      <td>Bancos Múltiplos, sem Carteira Comercial</td>\n",
              "      <td>Empregado - Geral, inclusive o empregado públi...</td>\n",
              "      <td>Diretor de Riscos de Mercado</td>\n",
              "      <td>Pós-Graduação completa</td>\n",
              "      <td>Homem</td>\n",
              "      <td>Branca</td>\n",
              "      <td>De 500 a 999 vínculos</td>\n",
              "      <td>6</td>\n",
              "      <td>64</td>\n",
              "      <td>643</td>\n",
              "      <td>6431</td>\n",
              "      <td>64310</td>\n",
              "      <td>643100</td>\n",
              "      <td>1</td>\n",
              "      <td>12</td>\n",
              "      <td>122</td>\n",
              "      <td>1227</td>\n",
              "      <td>12275</td>\n",
              "      <td>355</td>\n",
              "      <td>3550</td>\n",
              "      <td>35503</td>\n",
              "      <td>40.0</td>\n",
              "      <td>12325232.0</td>\n",
              "      <td>5º Quintil PNAD</td>\n",
              "      <td>42651.46</td>\n",
              "      <td>969.351364</td>\n",
              "      <td>15680.682454</td>\n",
              "    </tr>\n",
              "    <tr>\n",
              "      <th>1511</th>\n",
              "      <td>Sudeste</td>\n",
              "      <td>São Paulo</td>\n",
              "      <td>Sp-Sao Paulo</td>\n",
              "      <td>Indústrias de Transformação</td>\n",
              "      <td>Fabricação de Aditivos de Uso Industrial</td>\n",
              "      <td>Empregado - Geral, inclusive o empregado públi...</td>\n",
              "      <td>Gerente de Vendas</td>\n",
              "      <td>Mestrado</td>\n",
              "      <td>Homem</td>\n",
              "      <td>Branca</td>\n",
              "      <td>De 100 a 249 vínculos</td>\n",
              "      <td>2</td>\n",
              "      <td>20</td>\n",
              "      <td>209</td>\n",
              "      <td>2093</td>\n",
              "      <td>20932</td>\n",
              "      <td>209320</td>\n",
              "      <td>1</td>\n",
              "      <td>14</td>\n",
              "      <td>142</td>\n",
              "      <td>1423</td>\n",
              "      <td>14232</td>\n",
              "      <td>355</td>\n",
              "      <td>3550</td>\n",
              "      <td>35503</td>\n",
              "      <td>56.0</td>\n",
              "      <td>12325232.0</td>\n",
              "      <td>5º Quintil PNAD</td>\n",
              "      <td>11063.84</td>\n",
              "      <td>251.450909</td>\n",
              "      <td>15609.215938</td>\n",
              "    </tr>\n",
              "    <tr>\n",
              "      <th>10806</th>\n",
              "      <td>Sudeste</td>\n",
              "      <td>São Paulo</td>\n",
              "      <td>Sp-Sao Paulo</td>\n",
              "      <td>Outras Atividades de Serviços</td>\n",
              "      <td>Atividades de Organizações Associativas Patron...</td>\n",
              "      <td>Empregado - Geral, inclusive o empregado públi...</td>\n",
              "      <td>Diretor Administrativo</td>\n",
              "      <td>Mestrado</td>\n",
              "      <td>Homem</td>\n",
              "      <td>Branca</td>\n",
              "      <td>De 20 a 49 vínculos</td>\n",
              "      <td>9</td>\n",
              "      <td>94</td>\n",
              "      <td>941</td>\n",
              "      <td>9411</td>\n",
              "      <td>94111</td>\n",
              "      <td>941110</td>\n",
              "      <td>1</td>\n",
              "      <td>12</td>\n",
              "      <td>123</td>\n",
              "      <td>1231</td>\n",
              "      <td>12310</td>\n",
              "      <td>355</td>\n",
              "      <td>3550</td>\n",
              "      <td>35503</td>\n",
              "      <td>63.0</td>\n",
              "      <td>12325232.0</td>\n",
              "      <td>5º Quintil PNAD</td>\n",
              "      <td>34411.00</td>\n",
              "      <td>860.275000</td>\n",
              "      <td>15431.129972</td>\n",
              "    </tr>\n",
              "    <tr>\n",
              "      <th>35329</th>\n",
              "      <td>Sudeste</td>\n",
              "      <td>São Paulo</td>\n",
              "      <td>Sp-Sorocaba</td>\n",
              "      <td>Indústrias de Transformação</td>\n",
              "      <td>Fabricação de Baterias e Acumuladores para Veí...</td>\n",
              "      <td>Empregado - Geral, inclusive o empregado públi...</td>\n",
              "      <td>Gerente de Projetos e Servicos de Manutencao</td>\n",
              "      <td>Pós-Graduação completa</td>\n",
              "      <td>Homem</td>\n",
              "      <td>Branca</td>\n",
              "      <td>1000 ou mais vínculos</td>\n",
              "      <td>2</td>\n",
              "      <td>27</td>\n",
              "      <td>272</td>\n",
              "      <td>2722</td>\n",
              "      <td>27228</td>\n",
              "      <td>272280</td>\n",
              "      <td>1</td>\n",
              "      <td>14</td>\n",
              "      <td>142</td>\n",
              "      <td>1427</td>\n",
              "      <td>14270</td>\n",
              "      <td>355</td>\n",
              "      <td>3552</td>\n",
              "      <td>35522</td>\n",
              "      <td>57.0</td>\n",
              "      <td>687357.0</td>\n",
              "      <td>5º Quintil PNAD</td>\n",
              "      <td>12285.21</td>\n",
              "      <td>279.209318</td>\n",
              "      <td>15096.816898</td>\n",
              "    </tr>\n",
              "    <tr>\n",
              "      <th>5462</th>\n",
              "      <td>Sudeste</td>\n",
              "      <td>São Paulo</td>\n",
              "      <td>Sp-Sao Paulo</td>\n",
              "      <td>Atividades Financeiras, de Seguros e Serviços ...</td>\n",
              "      <td>Planos de Saúde</td>\n",
              "      <td>Empregado - Geral, inclusive o empregado públi...</td>\n",
              "      <td>Diretor de Recursos Humanos</td>\n",
              "      <td>Pós-Graduação completa</td>\n",
              "      <td>Mulher</td>\n",
              "      <td>Branca</td>\n",
              "      <td>De 50 a 99 vínculos</td>\n",
              "      <td>6</td>\n",
              "      <td>65</td>\n",
              "      <td>655</td>\n",
              "      <td>6550</td>\n",
              "      <td>65502</td>\n",
              "      <td>655020</td>\n",
              "      <td>1</td>\n",
              "      <td>12</td>\n",
              "      <td>123</td>\n",
              "      <td>1232</td>\n",
              "      <td>12320</td>\n",
              "      <td>355</td>\n",
              "      <td>3550</td>\n",
              "      <td>35503</td>\n",
              "      <td>42.0</td>\n",
              "      <td>12325232.0</td>\n",
              "      <td>5º Quintil PNAD</td>\n",
              "      <td>43000.00</td>\n",
              "      <td>1075.000000</td>\n",
              "      <td>15088.544984</td>\n",
              "    </tr>\n",
              "    <tr>\n",
              "      <th>16562</th>\n",
              "      <td>Sudeste</td>\n",
              "      <td>São Paulo</td>\n",
              "      <td>Sp-Sao Paulo</td>\n",
              "      <td>Informação e Comunicação</td>\n",
              "      <td>Desenvolvimento e Licenciamento de Programas d...</td>\n",
              "      <td>Empregado - Geral, inclusive o empregado públi...</td>\n",
              "      <td>Gerente de Pesquisa e Desenvolvimento (P&amp;D)</td>\n",
              "      <td>Pós-Graduação completa</td>\n",
              "      <td>Homem</td>\n",
              "      <td>Branca</td>\n",
              "      <td>1000 ou mais vínculos</td>\n",
              "      <td>6</td>\n",
              "      <td>62</td>\n",
              "      <td>620</td>\n",
              "      <td>6203</td>\n",
              "      <td>62031</td>\n",
              "      <td>620310</td>\n",
              "      <td>1</td>\n",
              "      <td>14</td>\n",
              "      <td>142</td>\n",
              "      <td>1426</td>\n",
              "      <td>14260</td>\n",
              "      <td>355</td>\n",
              "      <td>3550</td>\n",
              "      <td>35503</td>\n",
              "      <td>54.0</td>\n",
              "      <td>12325232.0</td>\n",
              "      <td>5º Quintil PNAD</td>\n",
              "      <td>18500.00</td>\n",
              "      <td>420.454545</td>\n",
              "      <td>14979.245898</td>\n",
              "    </tr>\n",
              "    <tr>\n",
              "      <th>16382</th>\n",
              "      <td>Sudeste</td>\n",
              "      <td>São Paulo</td>\n",
              "      <td>Sp-Sao Paulo</td>\n",
              "      <td>Atividades Profissionais, Científicas e Técnicas</td>\n",
              "      <td>Atividades de Consultoria em Gestão Empresaria...</td>\n",
              "      <td>Empregado - Geral, inclusive o empregado públi...</td>\n",
              "      <td>Diretor Geral de Empresa e Organizacoes (Excet...</td>\n",
              "      <td>Mestrado</td>\n",
              "      <td>Homem</td>\n",
              "      <td>Branca</td>\n",
              "      <td>1000 ou mais vínculos</td>\n",
              "      <td>7</td>\n",
              "      <td>70</td>\n",
              "      <td>702</td>\n",
              "      <td>7020</td>\n",
              "      <td>70204</td>\n",
              "      <td>702040</td>\n",
              "      <td>1</td>\n",
              "      <td>12</td>\n",
              "      <td>121</td>\n",
              "      <td>1210</td>\n",
              "      <td>12101</td>\n",
              "      <td>355</td>\n",
              "      <td>3550</td>\n",
              "      <td>35503</td>\n",
              "      <td>53.0</td>\n",
              "      <td>12325232.0</td>\n",
              "      <td>5º Quintil PNAD</td>\n",
              "      <td>35258.81</td>\n",
              "      <td>801.336591</td>\n",
              "      <td>14912.564836</td>\n",
              "    </tr>\n",
              "    <tr>\n",
              "      <th>16661</th>\n",
              "      <td>Sudeste</td>\n",
              "      <td>São Paulo</td>\n",
              "      <td>Sp-Sao Paulo</td>\n",
              "      <td>Atividades Administrativas e Serviços Compleme...</td>\n",
              "      <td>Atividades de Vigilância e Segurança Privada</td>\n",
              "      <td>Empregado - Geral, inclusive o empregado públi...</td>\n",
              "      <td>Diretor de Recursos Humanos</td>\n",
              "      <td>Pós-Graduação completa</td>\n",
              "      <td>Homem</td>\n",
              "      <td>Branca</td>\n",
              "      <td>1000 ou mais vínculos</td>\n",
              "      <td>8</td>\n",
              "      <td>80</td>\n",
              "      <td>801</td>\n",
              "      <td>8011</td>\n",
              "      <td>80111</td>\n",
              "      <td>801110</td>\n",
              "      <td>1</td>\n",
              "      <td>12</td>\n",
              "      <td>123</td>\n",
              "      <td>1232</td>\n",
              "      <td>12320</td>\n",
              "      <td>355</td>\n",
              "      <td>3550</td>\n",
              "      <td>35503</td>\n",
              "      <td>46.0</td>\n",
              "      <td>12325232.0</td>\n",
              "      <td>5º Quintil PNAD</td>\n",
              "      <td>16321.96</td>\n",
              "      <td>370.953636</td>\n",
              "      <td>14908.874279</td>\n",
              "    </tr>\n",
              "    <tr>\n",
              "      <th>14948</th>\n",
              "      <td>Sudeste</td>\n",
              "      <td>São Paulo</td>\n",
              "      <td>Sp-Sao Paulo</td>\n",
              "      <td>Atividades Financeiras, de Seguros e Serviços ...</td>\n",
              "      <td>Corretores e Agentes de Seguros, de Planos de ...</td>\n",
              "      <td>Empregado - Geral, inclusive o empregado públi...</td>\n",
              "      <td>Diretor de Recursos Humanos</td>\n",
              "      <td>Mestrado</td>\n",
              "      <td>Mulher</td>\n",
              "      <td>Não informada</td>\n",
              "      <td>1000 ou mais vínculos</td>\n",
              "      <td>6</td>\n",
              "      <td>66</td>\n",
              "      <td>662</td>\n",
              "      <td>6622</td>\n",
              "      <td>66223</td>\n",
              "      <td>662230</td>\n",
              "      <td>1</td>\n",
              "      <td>12</td>\n",
              "      <td>123</td>\n",
              "      <td>1232</td>\n",
              "      <td>12320</td>\n",
              "      <td>355</td>\n",
              "      <td>3550</td>\n",
              "      <td>35503</td>\n",
              "      <td>46.0</td>\n",
              "      <td>12325232.0</td>\n",
              "      <td>5º Quintil PNAD</td>\n",
              "      <td>45000.00</td>\n",
              "      <td>1125.000000</td>\n",
              "      <td>14882.063223</td>\n",
              "    </tr>\n",
              "    <tr>\n",
              "      <th>16584</th>\n",
              "      <td>Sudeste</td>\n",
              "      <td>São Paulo</td>\n",
              "      <td>Sp-Sao Paulo</td>\n",
              "      <td>Atividades Profissionais, Científicas e Técnicas</td>\n",
              "      <td>Atividades de Consultoria em Gestão Empresaria...</td>\n",
              "      <td>Empregado - Geral, inclusive o empregado públi...</td>\n",
              "      <td>Gerente de Produtos Bancarios</td>\n",
              "      <td>Pós-Graduação completa</td>\n",
              "      <td>Homem</td>\n",
              "      <td>Branca</td>\n",
              "      <td>1000 ou mais vínculos</td>\n",
              "      <td>7</td>\n",
              "      <td>70</td>\n",
              "      <td>702</td>\n",
              "      <td>7020</td>\n",
              "      <td>70204</td>\n",
              "      <td>702040</td>\n",
              "      <td>1</td>\n",
              "      <td>14</td>\n",
              "      <td>141</td>\n",
              "      <td>1417</td>\n",
              "      <td>14170</td>\n",
              "      <td>355</td>\n",
              "      <td>3550</td>\n",
              "      <td>35503</td>\n",
              "      <td>57.0</td>\n",
              "      <td>12325232.0</td>\n",
              "      <td>5º Quintil PNAD</td>\n",
              "      <td>17709.55</td>\n",
              "      <td>402.489773</td>\n",
              "      <td>14786.359088</td>\n",
              "    </tr>\n",
              "    <tr>\n",
              "      <th>7530</th>\n",
              "      <td>Sudeste</td>\n",
              "      <td>São Paulo</td>\n",
              "      <td>Sp-Sao Paulo</td>\n",
              "      <td>Atividades Profissionais, Científicas e Técnicas</td>\n",
              "      <td>Atividades de Intermediação e Agenciamento de ...</td>\n",
              "      <td>Empregado - Geral, inclusive o empregado públi...</td>\n",
              "      <td>Gerente de Seguranca de Tecnologia da Informacao</td>\n",
              "      <td>Mestrado</td>\n",
              "      <td>Homem</td>\n",
              "      <td>Branca</td>\n",
              "      <td>De 500 a 999 vínculos</td>\n",
              "      <td>7</td>\n",
              "      <td>74</td>\n",
              "      <td>749</td>\n",
              "      <td>7490</td>\n",
              "      <td>74901</td>\n",
              "      <td>749010</td>\n",
              "      <td>1</td>\n",
              "      <td>14</td>\n",
              "      <td>142</td>\n",
              "      <td>1425</td>\n",
              "      <td>14252</td>\n",
              "      <td>355</td>\n",
              "      <td>3550</td>\n",
              "      <td>35503</td>\n",
              "      <td>51.0</td>\n",
              "      <td>12325232.0</td>\n",
              "      <td>5º Quintil PNAD</td>\n",
              "      <td>15000.00</td>\n",
              "      <td>340.909091</td>\n",
              "      <td>14784.692341</td>\n",
              "    </tr>\n",
              "    <tr>\n",
              "      <th>7363</th>\n",
              "      <td>Sudeste</td>\n",
              "      <td>São Paulo</td>\n",
              "      <td>Sp-Sao Paulo</td>\n",
              "      <td>Água, Esgoto, Atividades de Gestão de Resíduos...</td>\n",
              "      <td>Captação, Tratamento e Distribuição de água</td>\n",
              "      <td>Empregado - Geral, inclusive o empregado públi...</td>\n",
              "      <td>Diretor de Producao e Operacoes da Industria d...</td>\n",
              "      <td>Superior Completo</td>\n",
              "      <td>Homem</td>\n",
              "      <td>Branca</td>\n",
              "      <td>De 500 a 999 vínculos</td>\n",
              "      <td>3</td>\n",
              "      <td>36</td>\n",
              "      <td>360</td>\n",
              "      <td>3600</td>\n",
              "      <td>36006</td>\n",
              "      <td>360060</td>\n",
              "      <td>1</td>\n",
              "      <td>12</td>\n",
              "      <td>122</td>\n",
              "      <td>1222</td>\n",
              "      <td>12220</td>\n",
              "      <td>355</td>\n",
              "      <td>3550</td>\n",
              "      <td>35503</td>\n",
              "      <td>66.0</td>\n",
              "      <td>12325232.0</td>\n",
              "      <td>5º Quintil PNAD</td>\n",
              "      <td>31382.13</td>\n",
              "      <td>784.553250</td>\n",
              "      <td>14721.276052</td>\n",
              "    </tr>\n",
              "    <tr>\n",
              "      <th>24360</th>\n",
              "      <td>Sudeste</td>\n",
              "      <td>São Paulo</td>\n",
              "      <td>Sp-Sao Paulo</td>\n",
              "      <td>Informação e Comunicação</td>\n",
              "      <td>Desenvolvimento e Licenciamento de Programas d...</td>\n",
              "      <td>Empregado - Geral, inclusive o empregado públi...</td>\n",
              "      <td>Gerente de Vendas</td>\n",
              "      <td>Mestrado</td>\n",
              "      <td>Homem</td>\n",
              "      <td>Branca</td>\n",
              "      <td>De 250 a 499 vínculos</td>\n",
              "      <td>6</td>\n",
              "      <td>62</td>\n",
              "      <td>620</td>\n",
              "      <td>6203</td>\n",
              "      <td>62031</td>\n",
              "      <td>620310</td>\n",
              "      <td>1</td>\n",
              "      <td>14</td>\n",
              "      <td>142</td>\n",
              "      <td>1423</td>\n",
              "      <td>14232</td>\n",
              "      <td>355</td>\n",
              "      <td>3550</td>\n",
              "      <td>35503</td>\n",
              "      <td>62.0</td>\n",
              "      <td>12325232.0</td>\n",
              "      <td>5º Quintil PNAD</td>\n",
              "      <td>43000.00</td>\n",
              "      <td>1075.000000</td>\n",
              "      <td>14676.242110</td>\n",
              "    </tr>\n",
              "    <tr>\n",
              "      <th>10877</th>\n",
              "      <td>Sudeste</td>\n",
              "      <td>São Paulo</td>\n",
              "      <td>Sp-Sao Paulo</td>\n",
              "      <td>Atividades Financeiras, de Seguros e Serviços ...</td>\n",
              "      <td>Holdings de Instituições Não-Financeiras</td>\n",
              "      <td>Empregado - Geral, inclusive o empregado públi...</td>\n",
              "      <td>Diretor Financeiro</td>\n",
              "      <td>Pós-Graduação completa</td>\n",
              "      <td>Homem</td>\n",
              "      <td>Branca</td>\n",
              "      <td>De 20 a 49 vínculos</td>\n",
              "      <td>6</td>\n",
              "      <td>64</td>\n",
              "      <td>646</td>\n",
              "      <td>6462</td>\n",
              "      <td>64620</td>\n",
              "      <td>646200</td>\n",
              "      <td>1</td>\n",
              "      <td>12</td>\n",
              "      <td>123</td>\n",
              "      <td>1231</td>\n",
              "      <td>12311</td>\n",
              "      <td>355</td>\n",
              "      <td>3550</td>\n",
              "      <td>35503</td>\n",
              "      <td>49.0</td>\n",
              "      <td>12325232.0</td>\n",
              "      <td>5º Quintil PNAD</td>\n",
              "      <td>3750.00</td>\n",
              "      <td>93.750000</td>\n",
              "      <td>14636.306056</td>\n",
              "    </tr>\n",
              "    <tr>\n",
              "      <th>9601</th>\n",
              "      <td>Sudeste</td>\n",
              "      <td>São Paulo</td>\n",
              "      <td>Sp-Sao Paulo</td>\n",
              "      <td>Atividades Financeiras, de Seguros e Serviços ...</td>\n",
              "      <td>Bancos Múltiplos, sem Carteira Comercial</td>\n",
              "      <td>Empregado - Geral, inclusive o empregado públi...</td>\n",
              "      <td>Gerente Administrativo</td>\n",
              "      <td>Pós-Graduação completa</td>\n",
              "      <td>Homem</td>\n",
              "      <td>Amarela</td>\n",
              "      <td>De 500 a 999 vínculos</td>\n",
              "      <td>6</td>\n",
              "      <td>64</td>\n",
              "      <td>643</td>\n",
              "      <td>6431</td>\n",
              "      <td>64310</td>\n",
              "      <td>643100</td>\n",
              "      <td>1</td>\n",
              "      <td>14</td>\n",
              "      <td>142</td>\n",
              "      <td>1421</td>\n",
              "      <td>14210</td>\n",
              "      <td>355</td>\n",
              "      <td>3550</td>\n",
              "      <td>35503</td>\n",
              "      <td>54.0</td>\n",
              "      <td>12325232.0</td>\n",
              "      <td>5º Quintil PNAD</td>\n",
              "      <td>17187.67</td>\n",
              "      <td>390.628864</td>\n",
              "      <td>14612.203655</td>\n",
              "    </tr>\n",
              "    <tr>\n",
              "      <th>16551</th>\n",
              "      <td>Sudeste</td>\n",
              "      <td>São Paulo</td>\n",
              "      <td>Sp-Sao Paulo</td>\n",
              "      <td>Indústrias de Transformação</td>\n",
              "      <td>Fabricação de Medicamentos Alopáticos para Uso...</td>\n",
              "      <td>Empregado - Geral, inclusive o empregado públi...</td>\n",
              "      <td>Gerente de Servicos de Saude</td>\n",
              "      <td>Pós-Graduação completa</td>\n",
              "      <td>Homem</td>\n",
              "      <td>Branca</td>\n",
              "      <td>1000 ou mais vínculos</td>\n",
              "      <td>2</td>\n",
              "      <td>21</td>\n",
              "      <td>212</td>\n",
              "      <td>2121</td>\n",
              "      <td>21211</td>\n",
              "      <td>212110</td>\n",
              "      <td>1</td>\n",
              "      <td>13</td>\n",
              "      <td>131</td>\n",
              "      <td>1312</td>\n",
              "      <td>13121</td>\n",
              "      <td>355</td>\n",
              "      <td>3550</td>\n",
              "      <td>35503</td>\n",
              "      <td>36.0</td>\n",
              "      <td>12325232.0</td>\n",
              "      <td>5º Quintil PNAD</td>\n",
              "      <td>20252.00</td>\n",
              "      <td>460.272727</td>\n",
              "      <td>14257.515273</td>\n",
              "    </tr>\n",
              "    <tr>\n",
              "      <th>4799</th>\n",
              "      <td>Sudeste</td>\n",
              "      <td>São Paulo</td>\n",
              "      <td>Sp-Sao Paulo</td>\n",
              "      <td>Informação e Comunicação</td>\n",
              "      <td>Desenvolvimento e Licenciamento de Programas d...</td>\n",
              "      <td>Empregado - Geral, inclusive o empregado públi...</td>\n",
              "      <td>Gerente de Projetos e Servicos de Manutencao</td>\n",
              "      <td>Pós-Graduação completa</td>\n",
              "      <td>Homem</td>\n",
              "      <td>Branca</td>\n",
              "      <td>De 50 a 99 vínculos</td>\n",
              "      <td>6</td>\n",
              "      <td>62</td>\n",
              "      <td>620</td>\n",
              "      <td>6202</td>\n",
              "      <td>62023</td>\n",
              "      <td>620230</td>\n",
              "      <td>1</td>\n",
              "      <td>14</td>\n",
              "      <td>142</td>\n",
              "      <td>1427</td>\n",
              "      <td>14270</td>\n",
              "      <td>355</td>\n",
              "      <td>3550</td>\n",
              "      <td>35503</td>\n",
              "      <td>44.0</td>\n",
              "      <td>12325232.0</td>\n",
              "      <td>5º Quintil PNAD</td>\n",
              "      <td>14000.00</td>\n",
              "      <td>318.181818</td>\n",
              "      <td>14212.049857</td>\n",
              "    </tr>\n",
              "  </tbody>\n",
              "</table>\n",
              "</div>"
            ],
            "text/plain": [
              "      Descrição_região    Descrição_uf  ...    valorhora         preds\n",
              "16383          Sudeste       São Paulo  ...  1016.154500  17306.630249\n",
              "43802          Sudeste  Rio de Janeiro  ...   897.257143  16365.099266\n",
              "3596           Sudeste       São Paulo  ...   568.181818  15815.841327\n",
              "7647           Sudeste       São Paulo  ...   969.351364  15680.682454\n",
              "1511           Sudeste       São Paulo  ...   251.450909  15609.215938\n",
              "10806          Sudeste       São Paulo  ...   860.275000  15431.129972\n",
              "35329          Sudeste       São Paulo  ...   279.209318  15096.816898\n",
              "5462           Sudeste       São Paulo  ...  1075.000000  15088.544984\n",
              "16562          Sudeste       São Paulo  ...   420.454545  14979.245898\n",
              "16382          Sudeste       São Paulo  ...   801.336591  14912.564836\n",
              "16661          Sudeste       São Paulo  ...   370.953636  14908.874279\n",
              "14948          Sudeste       São Paulo  ...  1125.000000  14882.063223\n",
              "16584          Sudeste       São Paulo  ...   402.489773  14786.359088\n",
              "7530           Sudeste       São Paulo  ...   340.909091  14784.692341\n",
              "7363           Sudeste       São Paulo  ...   784.553250  14721.276052\n",
              "24360          Sudeste       São Paulo  ...  1075.000000  14676.242110\n",
              "10877          Sudeste       São Paulo  ...    93.750000  14636.306056\n",
              "9601           Sudeste       São Paulo  ...   390.628864  14612.203655\n",
              "16551          Sudeste       São Paulo  ...   460.272727  14257.515273\n",
              "4799           Sudeste       São Paulo  ...   318.181818  14212.049857\n",
              "\n",
              "[20 rows x 31 columns]"
            ]
          },
          "metadata": {
            "tags": []
          },
          "execution_count": 22
        }
      ]
    },
    {
      "cell_type": "code",
      "metadata": {
        "colab": {
          "base_uri": "https://localhost:8080/",
          "height": 316
        },
        "id": "9Op3J1zgsH33",
        "outputId": "10a1ce05-f08f-41bc-909e-7ea12416151f"
      },
      "source": [
        "np.log1p(pd_df.loc[:,'salário']).plot.density()\r\n",
        "np.log1p(pd_df.loc[:,'preds']).plot.density()\r\n"
      ],
      "execution_count": 23,
      "outputs": [
        {
          "output_type": "stream",
          "text": [
            "/usr/local/lib/python3.6/dist-packages/pandas/core/series.py:726: RuntimeWarning: invalid value encountered in log1p\n",
            "  result = getattr(ufunc, method)(*inputs, **kwargs)\n"
          ],
          "name": "stderr"
        },
        {
          "output_type": "execute_result",
          "data": {
            "text/plain": [
              "<matplotlib.axes._subplots.AxesSubplot at 0x7fe5036805c0>"
            ]
          },
          "metadata": {
            "tags": []
          },
          "execution_count": 23
        },
        {
          "output_type": "display_data",
          "data": {
            "image/png": "[encoded data removed]",
            "text/plain": [
              "<Figure size 432x288 with 1 Axes>"
            ]
          },
          "metadata": {
            "tags": [],
            "needs_background": "light"
          }
        }
      ]
    },
    {
      "cell_type": "code",
      "metadata": {
        "id": "s80AYkzhzNWr"
      },
      "source": [
        ""
      ],
      "execution_count": null,
      "outputs": []
    }
  ]
}